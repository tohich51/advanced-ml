{
 "cells": [
  {
   "cell_type": "code",
   "execution_count": 443,
   "metadata": {},
   "outputs": [],
   "source": [
    "import re\n",
    "import random\n",
    "import numpy as np\n",
    "from tqdm import tqdm\n",
    "from copy import copy\n",
    "from collections import Counter, deque"
   ]
  },
  {
   "cell_type": "code",
   "execution_count": 444,
   "metadata": {},
   "outputs": [],
   "source": [
    "PATH = 'corpora/'\n",
    "TEXT = 'WarAndPeace.txt'\n",
    "TEXT_TEST = 'AnnaKarenina.txt'"
   ]
  },
  {
   "cell_type": "code",
   "execution_count": 445,
   "metadata": {},
   "outputs": [],
   "source": [
    "with open(PATH + TEXT, 'r') as f:\n",
    "    text = f.read()"
   ]
  },
  {
   "cell_type": "code",
   "execution_count": 446,
   "metadata": {},
   "outputs": [],
   "source": [
    "with open(PATH + TEXT_TEST, 'r') as f:\n",
    "    text_test = f.read()"
   ]
  },
  {
   "cell_type": "code",
   "execution_count": 447,
   "metadata": {},
   "outputs": [
    {
     "name": "stdout",
     "output_type": "stream",
     "text": [
      "Annotation\n",
      "\n",
      "\n",
      "\t\"Война и мир\" – самый известный роман Льва Николаевича Толстого, как никакое другое пр\n"
     ]
    }
   ],
   "source": [
    "print(text[:100])"
   ]
  },
  {
   "cell_type": "code",
   "execution_count": 448,
   "metadata": {},
   "outputs": [
    {
     "name": "stdout",
     "output_type": "stream",
     "text": [
      "Annotation\n",
      "\n",
      "\n",
      "«Анна Каренина», один из самых знаменитых романов Льва Толстого, начинается ставшей афо\n"
     ]
    }
   ],
   "source": [
    "print(text_test[:100])"
   ]
  },
  {
   "cell_type": "markdown",
   "metadata": {},
   "source": [
    "# 1 Реализуйте базовый частотный метод по Шерлоку Холмсу"
   ]
  },
  {
   "cell_type": "markdown",
   "metadata": {},
   "source": [
    "### Подсчитайте частоты букв по корпусам (пунктуацию и капитализацию можно просто опустить, а вот пробелы лучше оставить)"
   ]
  },
  {
   "cell_type": "code",
   "execution_count": 449,
   "metadata": {},
   "outputs": [],
   "source": [
    "def preprocess_text(x):\n",
    "    return ' '.join(re.findall(r\"[а-я]+\", x.lower()))\n",
    "\n",
    "def measure_accuracy(message, decoded_message):\n",
    "    correct = 0\n",
    "    for x, y in zip(message, decoded_message):\n",
    "        if x == y:\n",
    "            correct += 1\n",
    "    return correct / len(message)"
   ]
  },
  {
   "cell_type": "code",
   "execution_count": 450,
   "metadata": {},
   "outputs": [],
   "source": [
    "text = preprocess_text(text)"
   ]
  },
  {
   "cell_type": "code",
   "execution_count": 451,
   "metadata": {},
   "outputs": [
    {
     "name": "stdout",
     "output_type": "stream",
     "text": [
      "Counter({' ': 104466, 'о': 61282, 'а': 45209, 'е': 42519, 'и': 35838, 'н': 35119, 'т': 30619, 'с': 28128, 'л': 27277, 'в': 24824, 'р': 24570, 'к': 19328, 'д': 16387, 'м': 15940, 'у': 15454, 'п': 13847, 'я': 12477, 'г': 11177, 'ь': 10498, 'ы': 10233, 'з': 9602, 'б': 9310, 'ч': 7349, 'й': 6210, 'ж': 5460, 'ш': 5090, 'х': 4600, 'ю': 3495, 'ц': 2179, 'э': 1629, 'щ': 1514, 'ф': 1209, 'ъ': 283})\n"
     ]
    }
   ],
   "source": [
    "letter_counter = Counter(text)\n",
    "print(letter_counter)"
   ]
  },
  {
   "cell_type": "markdown",
   "metadata": {},
   "source": [
    "### возьмите какие-нибудь тестовые тексты (нужно взять по меньшей мере 2-3 предложения, иначе вряд ли сработает), зашифруйте их посредством случайной перестановки символов;"
   ]
  },
  {
   "cell_type": "code",
   "execution_count": 465,
   "metadata": {},
   "outputs": [],
   "source": [
    "text_test = preprocess_text(text_test)"
   ]
  },
  {
   "cell_type": "code",
   "execution_count": 466,
   "metadata": {},
   "outputs": [],
   "source": [
    "sample_text_test = text_test[:1000]"
   ]
  },
  {
   "cell_type": "code",
   "execution_count": 467,
   "metadata": {},
   "outputs": [
    {
     "name": "stdout",
     "output_type": "stream",
     "text": [
      "['в', 'о', 'й', 'н', 'а', ' ', 'и', 'м', 'р', 'с', 'ы', 'з', 'е', 'т', 'л', 'ь', 'к', 'ч', 'г', 'д', 'у', 'п', 'я', 'ж', 'б', 'щ', 'ф', 'э', 'х', 'ю', 'ш', 'ц', 'ъ']\n"
     ]
    }
   ],
   "source": [
    "ALPHABET = list(letter_counter.keys())\n",
    "print(ALPHABET)"
   ]
  },
  {
   "cell_type": "code",
   "execution_count": 468,
   "metadata": {},
   "outputs": [],
   "source": [
    "random.shuffle(ALPHABET)\n",
    "# Получаем словарь случайных перестановок букв\n",
    "map_random_dict = {k: v for k, v in zip(letter_counter.keys(), ALPHABET)}\n",
    "map_random_dict[' '] = ' '"
   ]
  },
  {
   "cell_type": "code",
   "execution_count": 469,
   "metadata": {},
   "outputs": [],
   "source": [
    "sample_text_test_encrypted = ''.join(list(map(lambda x: map_random_dict[x], sample_text_test)))"
   ]
  },
  {
   "cell_type": "code",
   "execution_count": 470,
   "metadata": {},
   "outputs": [
    {
     "name": "stdout",
     "output_type": "stream",
     "text": [
      "Counter({' ': 146, 'ц': 95, 'ъ': 76, 'ч': 70, 'х': 69, 'б': 61, 'к': 56, 'э': 55, 'ж': 52, 'с': 30, 'о': 27, 'з': 27, 'ь': 26, 'г': 24, 'у': 20, 'ю': 18, 'д': 17, 'щ': 16, 'я': 16, 'й': 16, 'в': 14, 'и': 12, 'м': 11, 'л': 9, 'е': 8, 'ф': 8, 'ш': 5, 'п': 4, 'т': 4, 'а': 3, 'р': 3, 'н': 2})\n"
     ]
    }
   ],
   "source": [
    "letter_counter_test = Counter(sample_text_test_encrypted)\n",
    "print(letter_counter_test)"
   ]
  },
  {
   "cell_type": "code",
   "execution_count": 471,
   "metadata": {},
   "outputs": [],
   "source": [
    "def create_decription_dict(dict_from, dict_to, reverse=True):\n",
    "    sorted_dict_from = np.asarray(sorted(\n",
    "        dict_from.items(), \n",
    "        key=lambda x: x[1],\n",
    "        reverse=reverse)\n",
    "                                 )\n",
    "    sorted_dict_to = np.asarray(sorted(\n",
    "        dict_to.items(),\n",
    "        key=lambda x: x[1],\n",
    "        reverse=reverse)\n",
    "                               )\n",
    "\n",
    "    map_decryption_dict = {f: t for f, t in zip(sorted_dict_from[:, 0], sorted_dict_to[:, 0])}\n",
    "    return map_decryption_dict"
   ]
  },
  {
   "cell_type": "code",
   "execution_count": 472,
   "metadata": {},
   "outputs": [],
   "source": [
    "decryption_dict = create_decription_dict(letter_counter_test, letter_counter)"
   ]
  },
  {
   "cell_type": "code",
   "execution_count": 473,
   "metadata": {},
   "outputs": [],
   "source": [
    "sample_text_test_decrypted = ''.join(list(map(lambda x: decryption_dict[x], sample_text_test_encrypted)))"
   ]
  },
  {
   "cell_type": "code",
   "execution_count": 474,
   "metadata": {},
   "outputs": [
    {
     "name": "stdout",
     "output_type": "stream",
     "text": [
      "Исходный текст\n",
      " анна каренина один из самых знаменитых романов льва толстого начинается ставшей афоризмом фразой все счастливые семьи похожи друг на друга каждая несчастливая семья несчастлива по своему это книга о вечных ценностях о любви о вере о семье о человеческом достоинстве лев толстойроман широкого дыхания часть первая лев толстой анна каренина роман широкого дыхания анна каренина поразила современников вседневностью содержания необычайная свобода раскованность повествования удивительно сочетались в этом романе с цельностью художественного взгляда автора на жизнь он выступал здесь как художник и мыслитель и назначение искусства видел не в том чтобы неоспоримо разрешить вопрос а в том чтобы заставить любить жизнь в бесчисленных никогда не истощимых всех ее проявлениях в е годы один маститый писатель по видимому гончаров сказал достоевскому это вещь неслыханная это вещь первая кто у нас из писателей может поравняться с этим а в европе кто представит хоть что нибудь подобное ф м достоевский наход \n",
      "\n",
      "Закодированный текст\n",
      " ъччъ уъсхчкчъ цькч кв бъощя вчъохчкэщя сцоъчцж згжъ эцзбэцмц чъйкчъхэбю бэъжпхе ъацсквоцо асъвце жбх бйъбэзкжщх бхогк дцяцфк ьсим чъ ьсимъ уъфьъю чхбйъбэзкжъю бхогю чхбйъбэзкжъ дц бжцхои шэц учкмъ ц жхйчщя нхччцбэюя ц зтлжк ц жхсх ц бхогх ц йхзцжхйхбуцо ьцбэцкчбэжх зхж эцзбэцесцоъч пксцуцмц ьщяъчкю йъбэг дхсжъю зхж эцзбэце ъччъ уъсхчкчъ сцоъч пксцуцмц ьщяъчкю ъччъ уъсхчкчъ дцсъвкзъ бцжсхохччкуцж жбхьчхжчцбэгт бцьхсфъчкю чхцлщйъечъю бжцлцьъ събуцжъччцбэг дцжхбэжцжъчкю иькжкэхзгчц бцйхэъзкбг ж шэцо сцоъчх б нхзгчцбэгт яиьцфхбэжхччцмц жвмзюьъ ъжэцсъ чъ фквчг цч жщбэидъз вьхбг уъу яиьцфчку к ощбзкэхзг к чъвчъйхчкх кбуиббэжъ жкьхз чх ж эцо йэцлщ чхцбдцскоц съвсхпкэг жцдсцб ъ ж эцо йэцлщ въбэъжкэг зтлкэг фквчг ж лхбйкбзхччщя чкуцмьъ чх кбэцркощя жбхя хх дсцюжзхчкюя ж х мцьщ цькч оъбэкэще дкбъэхзг дц жкькоцои мцчйъсцж буъвъз ьцбэцхжбуцои шэц жхрг чхбзщяъччъю шэц жхрг дхсжъю уэц и чъб кв дкбъэхзхе оцфхэ дцсъжчюэгбю б шэко ъ ж хжсцдх уэц дсхьбэъжкэ яцэг йэц чклиьг дцьцлчцх а о ьцбэцхжбуке чъяць \n",
      "\n",
      "Декодированный текст\n",
      " аееа уавиетеа одте тз наргь зеариетсгь вораеол кмла сокнсочо еаытеаиснп нсалюиж аэовтзрор эвазож лни ныансктлги нирмт яоьошт двбч еа двбча уашдап еиныансктлап нирмп еиныансктла яо нлоирб хсо уетча о лиыегь фиееонспь о кцйлт о ливи о нирми о ыиколиыинуор донсотенсли кил сокнсожворае ютвоуочо дгьаетп ыансм яивлап кил сокнсож аееа уавиетеа ворае ютвоуочо дгьаетп аееа уавиетеа яовазтка нолвириеетуол лнидеилеонсмц нодившаетп еиойгыажеап нлойода вануолаееонсм яолинслолаетп бдтлтсикмео ноыисактнм л хсор вораеи н фикмеонсмц ьбдошинслиееочо лзчкпда алсова еа штзем ое лгнсбяак здинм уау ьбдошету т ргнктсикм т еазеаыиети тнубннсла лтдик еи л сор ысойг еионяовтро вазвиютсм лоявон а л сор ысойг зансалтсм кцйтсм штзем л йинытнкиеегь етуочда еи тнсощтргь лниь ии явоплкиетпь л и чодг одте ранстсгж ятнасикм яо лтдтрорб чоеыавол нуазак донсоилнуорб хсо лищм еинкгьаееап хсо лищм яивлап усо б еан тз ятнасикиж рошис яовалепсмнп н хстр а л илвояи усо явиднсалтс ьосм ысо етйбдм яодойеои э р донсоилнутж еаьод \n",
      "\n",
      "Точность= 0.166\n"
     ]
    }
   ],
   "source": [
    "print('Исходный текст\\n', sample_text_test, '\\n')\n",
    "print('Закодированный текст\\n', sample_text_test_encrypted, '\\n')\n",
    "print('Декодированный текст\\n', sample_text_test_decrypted, '\\n')\n",
    "print('Точность=', measure_accuracy(sample_text_test_encrypted, sample_text_test_decrypted))"
   ]
  },
  {
   "cell_type": "markdown",
   "metadata": {},
   "source": [
    "Точность действительно получилась очень низкая, я попробовал сделать двумя способами с сохранением пробелов и полным кодированием. Одинаково плохо. "
   ]
  },
  {
   "cell_type": "markdown",
   "metadata": {},
   "source": [
    "# 2 Bigramm метод"
   ]
  },
  {
   "cell_type": "code",
   "execution_count": 475,
   "metadata": {},
   "outputs": [],
   "source": [
    "from sklearn.neighbors import KNeighborsClassifier\n",
    "import pandas as pd\n",
    "def collect_bigrams(x, step=1):\n",
    "    bigrams = deque([])\n",
    "    for i in range(0, len(x) - 2, step):\n",
    "        bigrams.append(x[i: i + 2])\n",
    "    return bigrams"
   ]
  },
  {
   "cell_type": "code",
   "execution_count": 476,
   "metadata": {},
   "outputs": [],
   "source": [
    "text_bigram = collect_bigrams(text)\n",
    "text_test_bigram = collect_bigrams(sample_text_test_encrypted)"
   ]
  },
  {
   "cell_type": "code",
   "execution_count": 477,
   "metadata": {},
   "outputs": [],
   "source": [
    "bigram_counter = Counter(text_bigram)\n",
    "bigram_counter_test = Counter(text_test_bigram)"
   ]
  },
  {
   "cell_type": "code",
   "execution_count": 478,
   "metadata": {},
   "outputs": [
    {
     "data": {
      "text/plain": [
       "262"
      ]
     },
     "execution_count": 478,
     "metadata": {},
     "output_type": "execute_result"
    }
   ],
   "source": [
    "len(bigram_counter_test)"
   ]
  },
  {
   "cell_type": "code",
   "execution_count": 479,
   "metadata": {},
   "outputs": [
    {
     "data": {
      "text/plain": [
       "764"
      ]
     },
     "execution_count": 479,
     "metadata": {},
     "output_type": "execute_result"
    }
   ],
   "source": [
    "len(bigram_counter)"
   ]
  },
  {
   "cell_type": "markdown",
   "metadata": {},
   "source": [
    "Тк число биграмм разнится нам нужно подобрать соотвествие биграммам так чтобы совпадали те которые наиболее схожи по частоте, для этого можно использовать knn с 1 соседом."
   ]
  },
  {
   "cell_type": "code",
   "execution_count": 480,
   "metadata": {},
   "outputs": [],
   "source": [
    "df_bigram_counter_test = pd.DataFrame(bigram_counter_test.items(), columns=['bigramm', 'count'])\n",
    "df_bigram_counter = pd.DataFrame(bigram_counter.items(), columns=['bigramm', 'count'])"
   ]
  },
  {
   "cell_type": "code",
   "execution_count": 481,
   "metadata": {},
   "outputs": [],
   "source": [
    "df_bigram_counter['freq'] = df_bigram_counter['count'] / df_bigram_counter['count'].sum()\n",
    "df_bigram_counter_test['freq'] = df_bigram_counter_test['count'] / df_bigram_counter_test['count'].sum()"
   ]
  },
  {
   "cell_type": "code",
   "execution_count": 482,
   "metadata": {},
   "outputs": [],
   "source": [
    "knn = KNeighborsClassifier(n_neighbors=1, n_jobs=-1)"
   ]
  },
  {
   "cell_type": "code",
   "execution_count": 483,
   "metadata": {},
   "outputs": [
    {
     "data": {
      "text/plain": [
       "KNeighborsClassifier(n_jobs=-1, n_neighbors=1)"
      ]
     },
     "execution_count": 483,
     "metadata": {},
     "output_type": "execute_result"
    }
   ],
   "source": [
    "knn.fit(df_bigram_counter['freq'].values.reshape((-1, 1)), df_bigram_counter['bigramm'])"
   ]
  },
  {
   "cell_type": "code",
   "execution_count": 484,
   "metadata": {},
   "outputs": [],
   "source": [
    "df_bigram_counter_test['bigram_map'] = knn.predict(df_bigram_counter_test['freq'].values.reshape((-1, 1)))"
   ]
  },
  {
   "cell_type": "code",
   "execution_count": 485,
   "metadata": {},
   "outputs": [
    {
     "data": {
      "text/html": [
       "<div>\n",
       "<style scoped>\n",
       "    .dataframe tbody tr th:only-of-type {\n",
       "        vertical-align: middle;\n",
       "    }\n",
       "\n",
       "    .dataframe tbody tr th {\n",
       "        vertical-align: top;\n",
       "    }\n",
       "\n",
       "    .dataframe thead th {\n",
       "        text-align: right;\n",
       "    }\n",
       "</style>\n",
       "<table border=\"1\" class=\"dataframe\">\n",
       "  <thead>\n",
       "    <tr style=\"text-align: right;\">\n",
       "      <th></th>\n",
       "      <th>bigramm</th>\n",
       "      <th>count</th>\n",
       "      <th>freq</th>\n",
       "      <th>bigram_map</th>\n",
       "    </tr>\n",
       "  </thead>\n",
       "  <tbody>\n",
       "    <tr>\n",
       "      <th>0</th>\n",
       "      <td>ъч</td>\n",
       "      <td>13</td>\n",
       "      <td>0.013026</td>\n",
       "      <td>то</td>\n",
       "    </tr>\n",
       "    <tr>\n",
       "      <th>1</th>\n",
       "      <td>чч</td>\n",
       "      <td>9</td>\n",
       "      <td>0.009018</td>\n",
       "      <td>го</td>\n",
       "    </tr>\n",
       "    <tr>\n",
       "      <th>2</th>\n",
       "      <td>чъ</td>\n",
       "      <td>17</td>\n",
       "      <td>0.017034</td>\n",
       "      <td>а</td>\n",
       "    </tr>\n",
       "    <tr>\n",
       "      <th>3</th>\n",
       "      <td>ъ</td>\n",
       "      <td>20</td>\n",
       "      <td>0.020040</td>\n",
       "      <td>о</td>\n",
       "    </tr>\n",
       "    <tr>\n",
       "      <th>4</th>\n",
       "      <td>у</td>\n",
       "      <td>8</td>\n",
       "      <td>0.008016</td>\n",
       "      <td>ов</td>\n",
       "    </tr>\n",
       "  </tbody>\n",
       "</table>\n",
       "</div>"
      ],
      "text/plain": [
       "  bigramm  count      freq bigram_map\n",
       "0      ъч     13  0.013026         то\n",
       "1      чч      9  0.009018         го\n",
       "2      чъ     17  0.017034         а \n",
       "3      ъ      20  0.020040         о \n",
       "4       у      8  0.008016         ов"
      ]
     },
     "execution_count": 485,
     "metadata": {},
     "output_type": "execute_result"
    }
   ],
   "source": [
    "df_bigram_counter_test.head()"
   ]
  },
  {
   "cell_type": "code",
   "execution_count": 486,
   "metadata": {},
   "outputs": [],
   "source": [
    "decryption_dict_bi = {k: v for k,v in df_bigram_counter_test[['bigramm', 'bigram_map']].values}"
   ]
  },
  {
   "cell_type": "code",
   "execution_count": 487,
   "metadata": {},
   "outputs": [],
   "source": [
    "sample_text_test_encrypted_bi = collect_bigrams(sample_text_test_encrypted, step=2)"
   ]
  },
  {
   "cell_type": "code",
   "execution_count": 488,
   "metadata": {},
   "outputs": [],
   "source": [
    "sample_text_test_decrypted_bi = ''.join(list(map(lambda x: decryption_dict_bi[x], sample_text_test_encrypted_bi)))"
   ]
  },
  {
   "cell_type": "code",
   "execution_count": 489,
   "metadata": {},
   "outputs": [
    {
     "name": "stdout",
     "output_type": "stream",
     "text": [
      "Исходный текст\n",
      " анна каренина один из самых знаменитых романов льва толстого начинается ставшей афоризмом фразой все счастливые семьи похожи друг на друга каждая несчастливая семья несчастлива по своему это книга о вечных ценностях о любви о вере о семье о человеческом достоинстве лев толстойроман широкого дыхания часть первая лев толстой анна каренина роман широкого дыхания анна каренина поразила современников вседневностью содержания необычайная свобода раскованность повествования удивительно сочетались в этом романе с цельностью художественного взгляда автора на жизнь он выступал здесь как художник и мыслитель и назначение искусства видел не в том чтобы неоспоримо разрешить вопрос а в том чтобы заставить любить жизнь в бесчисленных никогда не истощимых всех ее проявлениях в е годы один маститый писатель по видимому гончаров сказал достоевскому это вещь неслыханная это вещь первая кто у нас из писателей может поравняться с этим а в европе кто представит хоть что нибудь подобное ф м достоевский наход \n",
      "\n",
      "Закодированный текст\n",
      " ъччъ уъсхчкчъ цькч кв бъощя вчъохчкэщя сцоъчцж згжъ эцзбэцмц чъйкчъхэбю бэъжпхе ъацсквоцо асъвце жбх бйъбэзкжщх бхогк дцяцфк ьсим чъ ьсимъ уъфьъю чхбйъбэзкжъю бхогю чхбйъбэзкжъ дц бжцхои шэц учкмъ ц жхйчщя нхччцбэюя ц зтлжк ц жхсх ц бхогх ц йхзцжхйхбуцо ьцбэцкчбэжх зхж эцзбэцесцоъч пксцуцмц ьщяъчкю йъбэг дхсжъю зхж эцзбэце ъччъ уъсхчкчъ сцоъч пксцуцмц ьщяъчкю ъччъ уъсхчкчъ дцсъвкзъ бцжсхохччкуцж жбхьчхжчцбэгт бцьхсфъчкю чхцлщйъечъю бжцлцьъ събуцжъччцбэг дцжхбэжцжъчкю иькжкэхзгчц бцйхэъзкбг ж шэцо сцоъчх б нхзгчцбэгт яиьцфхбэжхччцмц жвмзюьъ ъжэцсъ чъ фквчг цч жщбэидъз вьхбг уъу яиьцфчку к ощбзкэхзг к чъвчъйхчкх кбуиббэжъ жкьхз чх ж эцо йэцлщ чхцбдцскоц съвсхпкэг жцдсцб ъ ж эцо йэцлщ въбэъжкэг зтлкэг фквчг ж лхбйкбзхччщя чкуцмьъ чх кбэцркощя жбхя хх дсцюжзхчкюя ж х мцьщ цькч оъбэкэще дкбъэхзг дц жкькоцои мцчйъсцж буъвъз ьцбэцхжбуцои шэц жхрг чхбзщяъччъю шэц жхрг дхсжъю уэц и чъб кв дкбъэхзхе оцфхэ дцсъжчюэгбю б шэко ъ ж хжсцдх уэц дсхьбэъжкэ яцэг йэц чклиьг дцьцлчцх а о ьцбэцхжбуке чъяць \n",
      "\n",
      "Декодированный текст\n",
      " тоа овданавоо в вов др а аовдадрнаовован ктоованьно о  ао в  вдрвоьньнтоо аньнв ьнанандавоьнан аи в  нв о андртов  аанов а аводрьна водрдровьндатогодаов адав  наньн вовв о ановтои дрда аано ов вдрови дрдровдргогоьнови дрьнани оввоов наньнованвоовдроввовов о ьньндатоан ко  ао ьн ктодрдрдрани  а а втов о  в адрв анв ан ао  ав гоо в во ва ан ктодрдрдрани  а а втотоа овданавоо овв ьньн новводрго аови в ьнв ово др нв даьн втогоаньньна тодранв о в в овтоово  вовово даов втодадаовводри  ададаандри ано вонаанго ндрводргогодрдрв дро овгоани ьньньно ано в  во  ада вдри дрьньн аьнов вв дрдрв ьн ав дадрандаанв  вана да втов ьньндао в  а агои ан кано  а вдрьнандаи в ьньнов вда агов и ан кано  а аовдав гоандров в ада в кьндав ангоов в аанда втов о ьн аованьн ато аьньннаанов ктов  аовдаанано овьнтов дрво вови дрда кдав ьндаов нв др ав о даанво аано и др вго аовтоа тоани овдртодаовтодри даа даантов дрводрдада атоананьнгодр нандрвоо  кв на аово товоьндав др агоано  вьнда вовв ьндадрдавогоо в в ьн вьн \n",
      "\n",
      "Точность= 0.042\n"
     ]
    }
   ],
   "source": [
    "print('Исходный текст\\n', sample_text_test, '\\n')\n",
    "print('Закодированный текст\\n', sample_text_test_encrypted, '\\n')\n",
    "print('Декодированный текст\\n', sample_text_test_decrypted_bi, '\\n')\n",
    "print('Точность=', measure_accuracy(sample_text_test_encrypted, sample_text_test_decrypted_bi))"
   ]
  },
  {
   "cell_type": "markdown",
   "metadata": {},
   "source": [
    "Стало хуже."
   ]
  },
  {
   "cell_type": "markdown",
   "metadata": {},
   "source": [
    "# 3 MCMC"
   ]
  },
  {
   "cell_type": "code",
   "execution_count": 490,
   "metadata": {},
   "outputs": [],
   "source": [
    "nan_replacement = 1 / len(ALPHABET) ** 2\n",
    "\n",
    "def loglikelihood(text, bigram_freqs):\n",
    "    bigram_counts = Counter([''.join(text[i: i + 2]) for i in range(len(text) - 2)])\n",
    "    return np.sum([count * np.log(bigram_freqs.get(bigram, nan_replacement))\n",
    "                    for bigram, count in bigram_counts.items()])\n",
    "\n",
    "def check_llh(cur_llh, new_llh):\n",
    "    if new_llh > cur_llh:\n",
    "        return True\n",
    "    return np.random.rand() < np.exp(new_llh - cur_llh)\n",
    "\n",
    "def decode(text, bigram_freqs, alphabet, n_iter=5000):\n",
    "    \"\"\"\n",
    "    text: закодированный текст\n",
    "    bigram_freqs: частотный словарь биграм\n",
    "    \"\"\"\n",
    "    best_decoded_text = copy(text)\n",
    "    cur_llh = loglikelihood(text, bigram_freqs)\n",
    "    best_llh = copy(cur_llh)\n",
    "    \n",
    "    for iteration in tqdm(range(n_iter)):\n",
    "        copy_text = copy(text)\n",
    "        \n",
    "        letters = np.random.choice(alphabet, 2, replace=False)\n",
    "        map_letters = {\n",
    "            letters[0]: letters[1], \n",
    "            letters[1]: letters[0]\n",
    "            \n",
    "        }\n",
    "        copy_text = ''.join(list(map(\n",
    "            lambda x: map_letters[x] if x in map_letters else x,\n",
    "            copy_text\n",
    "        )))\n",
    "        \n",
    "        new_llh = loglikelihood(copy_text, bigram_freqs)\n",
    "        if check_llh(cur_llh, new_llh):\n",
    "            text = copy_text\n",
    "            cur_llh = new_llh\n",
    "            if cur_llh > best_llh:\n",
    "                best_llh = cur_llh\n",
    "                best_decoded_text = copy(text)\n",
    "\n",
    "    return ''.join(best_decoded_text)"
   ]
  },
  {
   "cell_type": "code",
   "execution_count": 491,
   "metadata": {},
   "outputs": [
    {
     "name": "stderr",
     "output_type": "stream",
     "text": [
      "100%|██████████| 5000/5000 [00:04<00:00, 1063.04it/s]\n"
     ]
    },
    {
     "data": {
      "text/plain": [
       "'анна каренина один из самых знаменитых романов льва толстого начинается ставшей афоризмом фразой все счастливые семьи похожи друг на друга каждая несчастливая семья несчастлива по своему это книга о вечных ценностях о любви о вере о семье о человеческом достоинстве лев толстойроман широкого дыхания часть первая лев толстой анна каренина роман широкого дыхания анна каренина поразила современников вседневностью содержания необычайная свобода раскованность повествования удивительно сочетались в этом романе с цельностью художественного взгляда автора на жизнь он выступал здесь как художник и мыслитель и назначение искусства видел не в том чтобы неоспоримо разрешить вопрос а в том чтобы заставить любить жизнь в бесчисленных никогда не истощимых всех ее проявлениях в е годы один маститый писатель по видимому гончаров сказал достоевскому это вещь неслыханная это вещь первая кто у нас из писателей может поравняться с этим а в европе кто представит хоть что нибудь подобное ф м достоевский наход'"
      ]
     },
     "execution_count": 491,
     "metadata": {},
     "output_type": "execute_result"
    }
   ],
   "source": [
    "decode(list(sample_text_test_encrypted), bigram_counter, ALPHABET)"
   ]
  },
  {
   "cell_type": "markdown",
   "metadata": {},
   "source": [
    "# 4 Расшифровать летопись"
   ]
  },
  {
   "cell_type": "code",
   "execution_count": 492,
   "metadata": {},
   "outputs": [],
   "source": [
    "encoded_secret = \"←⇠⇒↟↹↷⇊↹↷↟↤↟↨←↹↝⇛⇯↳⇴⇒⇈↝⇊↾↹↟⇒↟↹⇷⇛⇞↨↟↹↝⇛⇯↳⇴⇒⇈↝⇊↾↹↨←⇌⇠↨↹⇙↹⇸↨⇛↙⇛↹⇠⇛⇛↲⇆←↝↟↞↹⇌⇛↨⇛⇯⇊↾↹⇒←↙⇌⇛↹⇷⇯⇛⇞↟↨⇴↨⇈↹⇠⇌⇛⇯←←↹↷⇠←↙⇛↹↷⇊↹↷⇠←↹⇠↤←⇒⇴⇒↟↹⇷⇯⇴↷↟⇒⇈↝⇛↹↟↹⇷⇛⇒⇙⇞↟↨←↹↳⇴⇌⇠↟↳⇴⇒⇈↝⇊↾↹↲⇴⇒⇒↹⇰⇴↹⇷⇛⇠⇒←↤↝←←↹⇞←↨↷←⇯↨⇛←↹⇰⇴↤⇴↝↟←↹⇌⇙⇯⇠⇴↹↘⇛↨↞↹⇌⇛↝←⇞↝⇛↹↞↹↝↟⇞←↙⇛↹↝←↹⇛↲←⇆⇴⇏\""
   ]
  },
  {
   "cell_type": "code",
   "execution_count": 493,
   "metadata": {},
   "outputs": [
    {
     "data": {
      "text/plain": [
       "28"
      ]
     },
     "execution_count": 493,
     "metadata": {},
     "output_type": "execute_result"
    }
   ],
   "source": [
    "len(np.unique(list(encoded_secret)))"
   ]
  },
  {
   "cell_type": "code",
   "execution_count": 494,
   "metadata": {},
   "outputs": [],
   "source": [
    "secret_message_counter = Counter(encoded_secret)"
   ]
  },
  {
   "cell_type": "code",
   "execution_count": 497,
   "metadata": {},
   "outputs": [],
   "source": [
    "secrtet_map_to_rus_letters = create_decription_dict(\n",
    "    secret_message_counter,\n",
    "    letter_counter,\n",
    "    reverse=True\n",
    ")"
   ]
  },
  {
   "cell_type": "code",
   "execution_count": 498,
   "metadata": {},
   "outputs": [
    {
     "data": {
      "text/plain": [
       "{'↹': ' ',\n",
       " '←': 'о',\n",
       " '⇛': 'а',\n",
       " '↟': 'е',\n",
       " '⇒': 'и',\n",
       " '↝': 'н',\n",
       " '⇴': 'т',\n",
       " '↨': 'с',\n",
       " '⇠': 'л',\n",
       " '⇯': 'в',\n",
       " '↷': 'р',\n",
       " '⇌': 'к',\n",
       " '⇊': 'д',\n",
       " '⇞': 'м',\n",
       " '⇈': 'у',\n",
       " '⇷': 'п',\n",
       " '↤': 'я',\n",
       " '↳': 'г',\n",
       " '↾': 'ь',\n",
       " '↙': 'ы',\n",
       " '⇙': 'з',\n",
       " '↲': 'б',\n",
       " '↞': 'ч',\n",
       " '⇆': 'й',\n",
       " '⇰': 'ж',\n",
       " '⇸': 'ш',\n",
       " '↘': 'х',\n",
       " '⇏': 'ю'}"
      ]
     },
     "execution_count": 498,
     "metadata": {},
     "output_type": "execute_result"
    }
   ],
   "source": [
    "secrtet_map_to_rus_letters"
   ]
  },
  {
   "cell_type": "code",
   "execution_count": 499,
   "metadata": {},
   "outputs": [
    {
     "data": {
      "text/plain": [
       "'олие рд реяесо навгтиундь еие памсе навгтиундь соклс з шсаыа лаабйонеч касавдь иоыка пваместсу лкавоо рлоыа рд рло ляоитие пвтреиуна е паизмесо гтклегтиундь бтии жт палиояноо мосровсао жтятнео кзвлт хасч каномна ч немоыа но абойтю'"
      ]
     },
     "execution_count": 499,
     "metadata": {},
     "output_type": "execute_result"
    }
   ],
   "source": [
    "encoded_secret_rus = ''.join(list(map(\n",
    "    lambda x: secrtet_map_to_rus_letters[x],\n",
    "    encoded_secret\n",
    ")))\n",
    "encoded_secret_rus"
   ]
  },
  {
   "cell_type": "code",
   "execution_count": 501,
   "metadata": {},
   "outputs": [
    {
     "name": "stderr",
     "output_type": "stream",
     "text": [
      "100%|██████████| 50000/50000 [00:16<00:00, 3069.47it/s]\n"
     ]
    },
    {
     "data": {
      "text/plain": [
       "'ерни бл бизите водканывль ини гости водканывль тепрт у этомо роочшевия потодль немпо гдоситаты рподее бремо бл бре рзенани гдабиныво и гонусите каприканывль чанн жа горнезвее сетбедтое жазавие пудра хотя повесво я висемо ве очешаф'"
      ]
     },
     "execution_count": 501,
     "metadata": {},
     "output_type": "execute_result"
    }
   ],
   "source": [
    "decode(list(encoded_secret_rus), bigram_counter, ALPHABET, n_iter=50000)"
   ]
  },
  {
   "cell_type": "markdown",
   "metadata": {},
   "source": [
    "# 6 Бонус"
   ]
  },
  {
   "cell_type": "markdown",
   "metadata": {},
   "source": [
    "Можно использовать для расшифровки древних языков которые имеют в основе заданный алфавит, но стоит проблема мапинга символов. Возможно придется перейти от букв к фонемам чтобы расширить алфавит современного русского."
   ]
  },
  {
   "cell_type": "code",
   "execution_count": null,
   "metadata": {},
   "outputs": [],
   "source": []
  }
 ],
 "metadata": {
  "kernelspec": {
   "display_name": "python38_main",
   "language": "python",
   "name": "python38_main"
  },
  "language_info": {
   "codemirror_mode": {
    "name": "ipython",
    "version": 3
   },
   "file_extension": ".py",
   "mimetype": "text/x-python",
   "name": "python",
   "nbconvert_exporter": "python",
   "pygments_lexer": "ipython3",
   "version": "3.8.5"
  }
 },
 "nbformat": 4,
 "nbformat_minor": 4
}
