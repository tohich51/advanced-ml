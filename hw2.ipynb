{
 "cells": [
  {
   "cell_type": "code",
   "execution_count": 1,
   "metadata": {},
   "outputs": [],
   "source": [
    "import pickle\n",
    "\n",
    "import pandas as pd\n",
    "import numpy as np\n",
    "from tqdm import tqdm\n",
    "from scipy import sparse\n",
    "from itertools import product\n",
    "\n",
    "from scipy.sparse import hstack\n",
    "from scipy.stats import spearmanr, kendalltau\n",
    "from sklearn.preprocessing import OneHotEncoder\n",
    "from sklearn.linear_model import LogisticRegression, LinearRegression, SGDClassifier, SGDRegressor\n",
    "from sklearn.metrics import roc_curve\n",
    "\n",
    "PATH_DATA = 'chgk/'"
   ]
  },
  {
   "cell_type": "code",
   "execution_count": 2,
   "metadata": {},
   "outputs": [],
   "source": [
    "import warnings\n",
    "warnings.filterwarnings(\"ignore\")"
   ]
  },
  {
   "cell_type": "markdown",
   "metadata": {},
   "source": [
    "# 1 Знакомство с данными / предобработка"
   ]
  },
  {
   "cell_type": "code",
   "execution_count": 3,
   "metadata": {},
   "outputs": [],
   "source": [
    "with open(PATH_DATA + 'players.pkl', 'rb') as f:\n",
    "    players = pickle.load(f)\n",
    "    \n",
    "with open(PATH_DATA + 'results.pkl', 'rb') as f:\n",
    "    results = pickle.load(f)\n",
    "    \n",
    "with open(PATH_DATA + 'tournaments.pkl', 'rb') as f:\n",
    "    tournaments = pickle.load(f)"
   ]
  },
  {
   "cell_type": "code",
   "execution_count": 4,
   "metadata": {},
   "outputs": [
    {
     "name": "stdout",
     "output_type": "stream",
     "text": [
      "204063 Число игроков\n",
      "Пример {'id': 1, 'name': 'Алексей', 'patronymic': None, 'surname': 'Абабилов'}\n"
     ]
    }
   ],
   "source": [
    "print(len(players.keys()), 'Число игроков')\n",
    "print('Пример', players[1])\n",
    "df_players = pd.DataFrame(players).T"
   ]
  },
  {
   "cell_type": "code",
   "execution_count": 5,
   "metadata": {},
   "outputs": [
    {
     "data": {
      "text/html": [
       "<div>\n",
       "<style scoped>\n",
       "    .dataframe tbody tr th:only-of-type {\n",
       "        vertical-align: middle;\n",
       "    }\n",
       "\n",
       "    .dataframe tbody tr th {\n",
       "        vertical-align: top;\n",
       "    }\n",
       "\n",
       "    .dataframe thead th {\n",
       "        text-align: right;\n",
       "    }\n",
       "</style>\n",
       "<table border=\"1\" class=\"dataframe\">\n",
       "  <thead>\n",
       "    <tr style=\"text-align: right;\">\n",
       "      <th></th>\n",
       "      <th>id</th>\n",
       "      <th>name</th>\n",
       "      <th>patronymic</th>\n",
       "      <th>surname</th>\n",
       "    </tr>\n",
       "  </thead>\n",
       "  <tbody>\n",
       "    <tr>\n",
       "      <th>1</th>\n",
       "      <td>1</td>\n",
       "      <td>Алексей</td>\n",
       "      <td>None</td>\n",
       "      <td>Абабилов</td>\n",
       "    </tr>\n",
       "    <tr>\n",
       "      <th>10</th>\n",
       "      <td>10</td>\n",
       "      <td>Игорь</td>\n",
       "      <td></td>\n",
       "      <td>Абалов</td>\n",
       "    </tr>\n",
       "    <tr>\n",
       "      <th>11</th>\n",
       "      <td>11</td>\n",
       "      <td>Наталья</td>\n",
       "      <td>Юрьевна</td>\n",
       "      <td>Абалымова</td>\n",
       "    </tr>\n",
       "    <tr>\n",
       "      <th>12</th>\n",
       "      <td>12</td>\n",
       "      <td>Артур</td>\n",
       "      <td>Евгеньевич</td>\n",
       "      <td>Абальян</td>\n",
       "    </tr>\n",
       "    <tr>\n",
       "      <th>13</th>\n",
       "      <td>13</td>\n",
       "      <td>Эрик</td>\n",
       "      <td>Евгеньевич</td>\n",
       "      <td>Абальян</td>\n",
       "    </tr>\n",
       "  </tbody>\n",
       "</table>\n",
       "</div>"
      ],
      "text/plain": [
       "    id     name  patronymic    surname\n",
       "1    1  Алексей        None   Абабилов\n",
       "10  10    Игорь                 Абалов\n",
       "11  11  Наталья     Юрьевна  Абалымова\n",
       "12  12    Артур  Евгеньевич    Абальян\n",
       "13  13     Эрик  Евгеньевич    Абальян"
      ]
     },
     "execution_count": 5,
     "metadata": {},
     "output_type": "execute_result"
    }
   ],
   "source": [
    "df_players.head()"
   ]
  },
  {
   "cell_type": "code",
   "execution_count": 6,
   "metadata": {},
   "outputs": [
    {
     "name": "stdout",
     "output_type": "stream",
     "text": [
      "5528 Число результатов\n"
     ]
    }
   ],
   "source": [
    "print(len(results.keys()), 'Число результатов')"
   ]
  },
  {
   "cell_type": "code",
   "execution_count": 7,
   "metadata": {},
   "outputs": [
    {
     "name": "stdout",
     "output_type": "stream",
     "text": [
      "5528 Число турнаментов\n",
      "Пример {'id': 2, 'name': 'Летние зори', 'dateStart': '2003-08-09T00:00:00+04:00', 'dateEnd': '2003-08-09T00:00:00+04:00', 'type': {'id': 2, 'name': 'Обычный'}, 'season': '/seasons/1', 'orgcommittee': [], 'synchData': None, 'questionQty': None}\n"
     ]
    }
   ],
   "source": [
    "print(len(tournaments.keys()), 'Число турнаментов')\n",
    "print('Пример', tournaments[2])"
   ]
  },
  {
   "cell_type": "code",
   "execution_count": 8,
   "metadata": {},
   "outputs": [],
   "source": [
    "df_tournaments = pd.DataFrame(tournaments).T"
   ]
  },
  {
   "cell_type": "code",
   "execution_count": 9,
   "metadata": {},
   "outputs": [
    {
     "data": {
      "text/html": [
       "<div>\n",
       "<style scoped>\n",
       "    .dataframe tbody tr th:only-of-type {\n",
       "        vertical-align: middle;\n",
       "    }\n",
       "\n",
       "    .dataframe tbody tr th {\n",
       "        vertical-align: top;\n",
       "    }\n",
       "\n",
       "    .dataframe thead th {\n",
       "        text-align: right;\n",
       "    }\n",
       "</style>\n",
       "<table border=\"1\" class=\"dataframe\">\n",
       "  <thead>\n",
       "    <tr style=\"text-align: right;\">\n",
       "      <th></th>\n",
       "      <th>id</th>\n",
       "      <th>name</th>\n",
       "      <th>dateStart</th>\n",
       "      <th>dateEnd</th>\n",
       "      <th>type</th>\n",
       "      <th>season</th>\n",
       "      <th>orgcommittee</th>\n",
       "      <th>synchData</th>\n",
       "      <th>questionQty</th>\n",
       "    </tr>\n",
       "  </thead>\n",
       "  <tbody>\n",
       "    <tr>\n",
       "      <th>1</th>\n",
       "      <td>1</td>\n",
       "      <td>Чемпионат Южного Кавказа</td>\n",
       "      <td>2003-07-25T00:00:00+04:00</td>\n",
       "      <td>2003-07-27T00:00:00+04:00</td>\n",
       "      <td>{'id': 2, 'name': 'Обычный'}</td>\n",
       "      <td>/seasons/1</td>\n",
       "      <td>[]</td>\n",
       "      <td>None</td>\n",
       "      <td>None</td>\n",
       "    </tr>\n",
       "    <tr>\n",
       "      <th>2</th>\n",
       "      <td>2</td>\n",
       "      <td>Летние зори</td>\n",
       "      <td>2003-08-09T00:00:00+04:00</td>\n",
       "      <td>2003-08-09T00:00:00+04:00</td>\n",
       "      <td>{'id': 2, 'name': 'Обычный'}</td>\n",
       "      <td>/seasons/1</td>\n",
       "      <td>[]</td>\n",
       "      <td>None</td>\n",
       "      <td>None</td>\n",
       "    </tr>\n",
       "    <tr>\n",
       "      <th>3</th>\n",
       "      <td>3</td>\n",
       "      <td>Турнир в Ижевске</td>\n",
       "      <td>2003-11-22T00:00:00+03:00</td>\n",
       "      <td>2003-11-24T00:00:00+03:00</td>\n",
       "      <td>{'id': 2, 'name': 'Обычный'}</td>\n",
       "      <td>/seasons/2</td>\n",
       "      <td>[]</td>\n",
       "      <td>None</td>\n",
       "      <td>None</td>\n",
       "    </tr>\n",
       "    <tr>\n",
       "      <th>4</th>\n",
       "      <td>4</td>\n",
       "      <td>Чемпионат Украины. Переходной этап</td>\n",
       "      <td>2003-10-11T00:00:00+04:00</td>\n",
       "      <td>2003-10-12T00:00:00+04:00</td>\n",
       "      <td>{'id': 2, 'name': 'Обычный'}</td>\n",
       "      <td>/seasons/2</td>\n",
       "      <td>[]</td>\n",
       "      <td>None</td>\n",
       "      <td>None</td>\n",
       "    </tr>\n",
       "    <tr>\n",
       "      <th>5</th>\n",
       "      <td>5</td>\n",
       "      <td>Бостонское чаепитие</td>\n",
       "      <td>2003-10-10T00:00:00+04:00</td>\n",
       "      <td>2003-10-13T00:00:00+04:00</td>\n",
       "      <td>{'id': 2, 'name': 'Обычный'}</td>\n",
       "      <td>/seasons/2</td>\n",
       "      <td>[]</td>\n",
       "      <td>None</td>\n",
       "      <td>None</td>\n",
       "    </tr>\n",
       "  </tbody>\n",
       "</table>\n",
       "</div>"
      ],
      "text/plain": [
       "  id                                name                  dateStart  \\\n",
       "1  1            Чемпионат Южного Кавказа  2003-07-25T00:00:00+04:00   \n",
       "2  2                         Летние зори  2003-08-09T00:00:00+04:00   \n",
       "3  3                    Турнир в Ижевске  2003-11-22T00:00:00+03:00   \n",
       "4  4  Чемпионат Украины. Переходной этап  2003-10-11T00:00:00+04:00   \n",
       "5  5                 Бостонское чаепитие  2003-10-10T00:00:00+04:00   \n",
       "\n",
       "                     dateEnd                          type      season  \\\n",
       "1  2003-07-27T00:00:00+04:00  {'id': 2, 'name': 'Обычный'}  /seasons/1   \n",
       "2  2003-08-09T00:00:00+04:00  {'id': 2, 'name': 'Обычный'}  /seasons/1   \n",
       "3  2003-11-24T00:00:00+03:00  {'id': 2, 'name': 'Обычный'}  /seasons/2   \n",
       "4  2003-10-12T00:00:00+04:00  {'id': 2, 'name': 'Обычный'}  /seasons/2   \n",
       "5  2003-10-13T00:00:00+04:00  {'id': 2, 'name': 'Обычный'}  /seasons/2   \n",
       "\n",
       "  orgcommittee synchData questionQty  \n",
       "1           []      None        None  \n",
       "2           []      None        None  \n",
       "3           []      None        None  \n",
       "4           []      None        None  \n",
       "5           []      None        None  "
      ]
     },
     "execution_count": 9,
     "metadata": {},
     "output_type": "execute_result"
    }
   ],
   "source": [
    "df_tournaments.head()"
   ]
  },
  {
   "cell_type": "code",
   "execution_count": 10,
   "metadata": {},
   "outputs": [],
   "source": [
    "df_results = pd.concat(\n",
    "    [\n",
    "        pd.concat(\n",
    "            [pd.DataFrame(results[key]), pd.DataFrame({'id': [key] * len(results[key])}, dtype=int)],\n",
    "            axis=1\n",
    "        ) for key in results.keys()\n",
    "    ]\n",
    ")"
   ]
  },
  {
   "cell_type": "code",
   "execution_count": 11,
   "metadata": {},
   "outputs": [
    {
     "data": {
      "text/html": [
       "<div>\n",
       "<style scoped>\n",
       "    .dataframe tbody tr th:only-of-type {\n",
       "        vertical-align: middle;\n",
       "    }\n",
       "\n",
       "    .dataframe tbody tr th {\n",
       "        vertical-align: top;\n",
       "    }\n",
       "\n",
       "    .dataframe thead th {\n",
       "        text-align: right;\n",
       "    }\n",
       "</style>\n",
       "<table border=\"1\" class=\"dataframe\">\n",
       "  <thead>\n",
       "    <tr style=\"text-align: right;\">\n",
       "      <th></th>\n",
       "      <th>team</th>\n",
       "      <th>mask</th>\n",
       "      <th>current</th>\n",
       "      <th>questionsTotal</th>\n",
       "      <th>synchRequest</th>\n",
       "      <th>position</th>\n",
       "      <th>controversials</th>\n",
       "      <th>flags</th>\n",
       "      <th>teamMembers</th>\n",
       "      <th>id</th>\n",
       "    </tr>\n",
       "  </thead>\n",
       "  <tbody>\n",
       "    <tr>\n",
       "      <th>0</th>\n",
       "      <td>{'id': 242, 'name': 'Команда Азимова', 'town':...</td>\n",
       "      <td>None</td>\n",
       "      <td>{'name': 'Команда Азимова', 'town': {'id': 21,...</td>\n",
       "      <td>0.0</td>\n",
       "      <td>None</td>\n",
       "      <td>1.0</td>\n",
       "      <td>[]</td>\n",
       "      <td>[]</td>\n",
       "      <td>[{'flag': None, 'usedRating': 0, 'rating': 0, ...</td>\n",
       "      <td>1</td>\n",
       "    </tr>\n",
       "    <tr>\n",
       "      <th>1</th>\n",
       "      <td>{'id': 640, 'name': 'Перезагрузка', 'town': {'...</td>\n",
       "      <td>None</td>\n",
       "      <td>{'name': 'Перезагрузка', 'town': {'id': 100, '...</td>\n",
       "      <td>0.0</td>\n",
       "      <td>None</td>\n",
       "      <td>2.0</td>\n",
       "      <td>[]</td>\n",
       "      <td>[]</td>\n",
       "      <td>[]</td>\n",
       "      <td>1</td>\n",
       "    </tr>\n",
       "    <tr>\n",
       "      <th>2</th>\n",
       "      <td>{'id': 245, 'name': 'Айастан', 'town': {'id': ...</td>\n",
       "      <td>None</td>\n",
       "      <td>{'name': 'Айастан', 'town': {'id': 100, 'name'...</td>\n",
       "      <td>0.0</td>\n",
       "      <td>None</td>\n",
       "      <td>3.5</td>\n",
       "      <td>[]</td>\n",
       "      <td>[]</td>\n",
       "      <td>[]</td>\n",
       "      <td>1</td>\n",
       "    </tr>\n",
       "    <tr>\n",
       "      <th>3</th>\n",
       "      <td>{'id': 299, 'name': 'Команда Гусейнова', 'town...</td>\n",
       "      <td>None</td>\n",
       "      <td>{'name': 'Команда Гусейнова', 'town': {'id': 2...</td>\n",
       "      <td>0.0</td>\n",
       "      <td>None</td>\n",
       "      <td>3.5</td>\n",
       "      <td>[]</td>\n",
       "      <td>[]</td>\n",
       "      <td>[]</td>\n",
       "      <td>1</td>\n",
       "    </tr>\n",
       "    <tr>\n",
       "      <th>4</th>\n",
       "      <td>{'id': 1189, 'name': 'Грааль', 'town': {'id': ...</td>\n",
       "      <td>None</td>\n",
       "      <td>{'name': 'Грааль', 'town': {'id': 369, 'name':...</td>\n",
       "      <td>0.0</td>\n",
       "      <td>None</td>\n",
       "      <td>5.0</td>\n",
       "      <td>[]</td>\n",
       "      <td>[]</td>\n",
       "      <td>[]</td>\n",
       "      <td>1</td>\n",
       "    </tr>\n",
       "  </tbody>\n",
       "</table>\n",
       "</div>"
      ],
      "text/plain": [
       "                                                team  mask  \\\n",
       "0  {'id': 242, 'name': 'Команда Азимова', 'town':...  None   \n",
       "1  {'id': 640, 'name': 'Перезагрузка', 'town': {'...  None   \n",
       "2  {'id': 245, 'name': 'Айастан', 'town': {'id': ...  None   \n",
       "3  {'id': 299, 'name': 'Команда Гусейнова', 'town...  None   \n",
       "4  {'id': 1189, 'name': 'Грааль', 'town': {'id': ...  None   \n",
       "\n",
       "                                             current  questionsTotal  \\\n",
       "0  {'name': 'Команда Азимова', 'town': {'id': 21,...             0.0   \n",
       "1  {'name': 'Перезагрузка', 'town': {'id': 100, '...             0.0   \n",
       "2  {'name': 'Айастан', 'town': {'id': 100, 'name'...             0.0   \n",
       "3  {'name': 'Команда Гусейнова', 'town': {'id': 2...             0.0   \n",
       "4  {'name': 'Грааль', 'town': {'id': 369, 'name':...             0.0   \n",
       "\n",
       "  synchRequest  position controversials flags  \\\n",
       "0         None       1.0             []    []   \n",
       "1         None       2.0             []    []   \n",
       "2         None       3.5             []    []   \n",
       "3         None       3.5             []    []   \n",
       "4         None       5.0             []    []   \n",
       "\n",
       "                                         teamMembers  id  \n",
       "0  [{'flag': None, 'usedRating': 0, 'rating': 0, ...   1  \n",
       "1                                                 []   1  \n",
       "2                                                 []   1  \n",
       "3                                                 []   1  \n",
       "4                                                 []   1  "
      ]
     },
     "execution_count": 11,
     "metadata": {},
     "output_type": "execute_result"
    }
   ],
   "source": [
    "df_results.head()"
   ]
  },
  {
   "cell_type": "markdown",
   "metadata": {},
   "source": [
    "Выберу только те результаты игр для которых есть  данные о составе команд и повопросные результаты"
   ]
  },
  {
   "cell_type": "code",
   "execution_count": 12,
   "metadata": {},
   "outputs": [],
   "source": [
    "df_results = df_results[~df_results['mask'].isna()]"
   ]
  },
  {
   "cell_type": "code",
   "execution_count": 13,
   "metadata": {},
   "outputs": [
    {
     "data": {
      "text/html": [
       "<div>\n",
       "<style scoped>\n",
       "    .dataframe tbody tr th:only-of-type {\n",
       "        vertical-align: middle;\n",
       "    }\n",
       "\n",
       "    .dataframe tbody tr th {\n",
       "        vertical-align: top;\n",
       "    }\n",
       "\n",
       "    .dataframe thead th {\n",
       "        text-align: right;\n",
       "    }\n",
       "</style>\n",
       "<table border=\"1\" class=\"dataframe\">\n",
       "  <thead>\n",
       "    <tr style=\"text-align: right;\">\n",
       "      <th></th>\n",
       "      <th>team</th>\n",
       "      <th>mask</th>\n",
       "      <th>current</th>\n",
       "      <th>questionsTotal</th>\n",
       "      <th>synchRequest</th>\n",
       "      <th>position</th>\n",
       "      <th>controversials</th>\n",
       "      <th>flags</th>\n",
       "      <th>teamMembers</th>\n",
       "      <th>id</th>\n",
       "    </tr>\n",
       "  </thead>\n",
       "  <tbody>\n",
       "    <tr>\n",
       "      <th>0</th>\n",
       "      <td>{'id': 1, 'name': 'Неспроста', 'town': {'id': ...</td>\n",
       "      <td>0111011101101110001101110011111111110011111100...</td>\n",
       "      <td>{'name': 'КП - Неспроста', 'town': {'id': 201,...</td>\n",
       "      <td>67.0</td>\n",
       "      <td>None</td>\n",
       "      <td>1.0</td>\n",
       "      <td>[]</td>\n",
       "      <td>[]</td>\n",
       "      <td>[{'flag': None, 'usedRating': 0, 'rating': 0, ...</td>\n",
       "      <td>22</td>\n",
       "    </tr>\n",
       "    <tr>\n",
       "      <th>1</th>\n",
       "      <td>{'id': 2, 'name': 'Афина', 'town': {'id': 201,...</td>\n",
       "      <td>0111111101011010010101110111111111110011011111...</td>\n",
       "      <td>{'name': 'Афина', 'town': {'id': 201, 'name': ...</td>\n",
       "      <td>65.0</td>\n",
       "      <td>None</td>\n",
       "      <td>2.5</td>\n",
       "      <td>[]</td>\n",
       "      <td>[]</td>\n",
       "      <td>[{'flag': None, 'usedRating': 0, 'rating': 0, ...</td>\n",
       "      <td>22</td>\n",
       "    </tr>\n",
       "    <tr>\n",
       "      <th>2</th>\n",
       "      <td>{'id': 670, 'name': 'Ксеп', 'town': {'id': 201...</td>\n",
       "      <td>0011111101011010011101110011111111110111111111...</td>\n",
       "      <td>{'name': 'Ксеп', 'town': {'id': 201, 'name': '...</td>\n",
       "      <td>65.0</td>\n",
       "      <td>None</td>\n",
       "      <td>2.5</td>\n",
       "      <td>[]</td>\n",
       "      <td>[]</td>\n",
       "      <td>[{'flag': None, 'usedRating': 0, 'rating': 0, ...</td>\n",
       "      <td>22</td>\n",
       "    </tr>\n",
       "    <tr>\n",
       "      <th>3</th>\n",
       "      <td>{'id': 173, 'name': 'ЮМА', 'town': {'id': 285,...</td>\n",
       "      <td>0111111001101110001101111011111111110100111111...</td>\n",
       "      <td>{'name': 'ЮМА-Энергокапитал', 'town': {'id': 2...</td>\n",
       "      <td>64.0</td>\n",
       "      <td>None</td>\n",
       "      <td>4.5</td>\n",
       "      <td>[]</td>\n",
       "      <td>[]</td>\n",
       "      <td>[{'flag': None, 'usedRating': 0, 'rating': 0, ...</td>\n",
       "      <td>22</td>\n",
       "    </tr>\n",
       "    <tr>\n",
       "      <th>4</th>\n",
       "      <td>{'id': 175, 'name': 'Транссфера', 'town': {'id...</td>\n",
       "      <td>0111111001101111001111111011111110110010111110...</td>\n",
       "      <td>{'name': 'Транссфера', 'town': {'id': 285, 'na...</td>\n",
       "      <td>64.0</td>\n",
       "      <td>None</td>\n",
       "      <td>4.5</td>\n",
       "      <td>[]</td>\n",
       "      <td>[]</td>\n",
       "      <td>[]</td>\n",
       "      <td>22</td>\n",
       "    </tr>\n",
       "  </tbody>\n",
       "</table>\n",
       "</div>"
      ],
      "text/plain": [
       "                                                team  \\\n",
       "0  {'id': 1, 'name': 'Неспроста', 'town': {'id': ...   \n",
       "1  {'id': 2, 'name': 'Афина', 'town': {'id': 201,...   \n",
       "2  {'id': 670, 'name': 'Ксеп', 'town': {'id': 201...   \n",
       "3  {'id': 173, 'name': 'ЮМА', 'town': {'id': 285,...   \n",
       "4  {'id': 175, 'name': 'Транссфера', 'town': {'id...   \n",
       "\n",
       "                                                mask  \\\n",
       "0  0111011101101110001101110011111111110011111100...   \n",
       "1  0111111101011010010101110111111111110011011111...   \n",
       "2  0011111101011010011101110011111111110111111111...   \n",
       "3  0111111001101110001101111011111111110100111111...   \n",
       "4  0111111001101111001111111011111110110010111110...   \n",
       "\n",
       "                                             current  questionsTotal  \\\n",
       "0  {'name': 'КП - Неспроста', 'town': {'id': 201,...            67.0   \n",
       "1  {'name': 'Афина', 'town': {'id': 201, 'name': ...            65.0   \n",
       "2  {'name': 'Ксеп', 'town': {'id': 201, 'name': '...            65.0   \n",
       "3  {'name': 'ЮМА-Энергокапитал', 'town': {'id': 2...            64.0   \n",
       "4  {'name': 'Транссфера', 'town': {'id': 285, 'na...            64.0   \n",
       "\n",
       "  synchRequest  position controversials flags  \\\n",
       "0         None       1.0             []    []   \n",
       "1         None       2.5             []    []   \n",
       "2         None       2.5             []    []   \n",
       "3         None       4.5             []    []   \n",
       "4         None       4.5             []    []   \n",
       "\n",
       "                                         teamMembers  id  \n",
       "0  [{'flag': None, 'usedRating': 0, 'rating': 0, ...  22  \n",
       "1  [{'flag': None, 'usedRating': 0, 'rating': 0, ...  22  \n",
       "2  [{'flag': None, 'usedRating': 0, 'rating': 0, ...  22  \n",
       "3  [{'flag': None, 'usedRating': 0, 'rating': 0, ...  22  \n",
       "4                                                 []  22  "
      ]
     },
     "execution_count": 13,
     "metadata": {},
     "output_type": "execute_result"
    }
   ],
   "source": [
    "df_results.head()"
   ]
  },
  {
   "cell_type": "markdown",
   "metadata": {},
   "source": [
    "Добавлю информацию о начале турнира"
   ]
  },
  {
   "cell_type": "markdown",
   "metadata": {},
   "source": [
    "В тренировочный набор данных пойдут данные за 2019 год, а за 2020 будут в тесте."
   ]
  },
  {
   "cell_type": "code",
   "execution_count": 14,
   "metadata": {},
   "outputs": [],
   "source": [
    "df_results = df_results.merge(df_tournaments, how='left')"
   ]
  },
  {
   "cell_type": "code",
   "execution_count": 15,
   "metadata": {},
   "outputs": [],
   "source": [
    "for col in ['dateStart', 'dateEnd']:\n",
    "    df_results[col] = pd.to_datetime(pd.to_datetime(df_results[col]), utc=True)"
   ]
  },
  {
   "cell_type": "code",
   "execution_count": 16,
   "metadata": {},
   "outputs": [],
   "source": [
    "df_results = df_results[df_results['dateStart'].apply(lambda x: x.year).isin((2019, 2020))]"
   ]
  },
  {
   "cell_type": "markdown",
   "metadata": {},
   "source": [
    "Буду считать, что вопросы на которые не было однозначного ответа явлются не отвеченными. Такие вопросы обозначены символом 'X' и '?'. "
   ]
  },
  {
   "cell_type": "code",
   "execution_count": 17,
   "metadata": {},
   "outputs": [],
   "source": [
    "df_results['mask'] = df_results['mask'].apply(lambda x: [int(v) for v in x.replace('X', '0').replace('?', '0')])"
   ]
  },
  {
   "cell_type": "code",
   "execution_count": 18,
   "metadata": {},
   "outputs": [],
   "source": [
    "df_results['playersId'] = df_results['teamMembers'].apply(lambda x: [player['player']['id'] for player in x])"
   ]
  },
  {
   "cell_type": "markdown",
   "metadata": {},
   "source": [
    "Отберу только тех игроков которые участвовали и в 2019 и в 2020 годах. Команды чей состав поредеет из игры не выбывают, считаю что оставшиеся игроки полностью внесли вклад в результат."
   ]
  },
  {
   "cell_type": "code",
   "execution_count": 19,
   "metadata": {},
   "outputs": [
    {
     "name": "stdout",
     "output_type": "stream",
     "text": [
      "Число уникальных игроков в 2019 – 59271\n",
      "Число уникальных игроков в 2020 – 28301\n",
      "Пересечение – 24089\n"
     ]
    }
   ],
   "source": [
    "UNIQUE_PLAYERS_2019 = np.unique(np.asarray(np.concatenate(df_results[df_results['dateStart'].dt.year == 2019]['playersId'].values), dtype=np.int64))\n",
    "UNIQUE_PLAYERS_2020 = np.unique(np.asarray(np.concatenate(df_results[df_results['dateStart'].dt.year == 2020]['playersId'].values), dtype=np.int64))\n",
    "INTERSECTED_PLAYERS = np.intersect1d(UNIQUE_PLAYERS_2019, UNIQUE_PLAYERS_2020)\n",
    "\n",
    "NUM_UNIQUE_PLAYERS_2019 = len(UNIQUE_PLAYERS_2019)\n",
    "NUM_UNIQUE_PLAYERS_2020 = len(UNIQUE_PLAYERS_2020)\n",
    "\n",
    "PLAYER_ID_TO_FEATURE_ID_2019 = {player: i for i, player in enumerate(UNIQUE_PLAYERS_2019)}\n",
    "PLAYER_ID_TO_FEATURE_ID_2020 = {player: i for i, player in enumerate(UNIQUE_PLAYERS_2020)}\n",
    "\n",
    "print(\n",
    "    f'Число уникальных игроков в 2019 – {len(UNIQUE_PLAYERS_2019)}',\n",
    "    f'Число уникальных игроков в 2020 – {len(UNIQUE_PLAYERS_2020)}',\n",
    "    f'Пересечение – {len(INTERSECTED_PLAYERS)}', sep='\\n'\n",
    ")"
   ]
  },
  {
   "cell_type": "code",
   "execution_count": 20,
   "metadata": {},
   "outputs": [],
   "source": [
    "df_results['playersId'] = df_results['playersId'].apply(lambda x: np.intersect1d(x, INTERSECTED_PLAYERS))"
   ]
  },
  {
   "cell_type": "code",
   "execution_count": 21,
   "metadata": {},
   "outputs": [],
   "source": [
    "df_results = df_results[df_results['playersId'].map(len) > 0]"
   ]
  },
  {
   "cell_type": "markdown",
   "metadata": {},
   "source": [
    "Посчитаю итоговое число вопросов и наблюдений которое будет в датасете. Мой набор данных в итоге будет представлять из себя матрицу где каждое наблюдение отвечает за результат игрока в турнире, а в качестве признаков будут идти сначала индикаторы игроков, далее индикаторы вопросов. Например для набора данных где присутствует 3 игрока и 3 вопроса, наблюдение 010001 будет означать что игрок №2 ответил на вопрос №3,таргетом будет также бинарное значение 0/1 характеризующее правильность ответа. "
   ]
  },
  {
   "cell_type": "markdown",
   "metadata": {},
   "source": [
    "В ходе разметки данных было замечено что некоторые игры для разных команд имеют разное число вопрсово. Насколько я понял это перестрелки, то есть задавались доп вопросы исходя из которых и получался итоговый балл. Соотвественно буду считать что в игре было максиммальное среди всех команд число вопрсов, то есть если кто-то даже не участвоввал в перестрелке, то он просто не ответил на этот вопрос."
   ]
  },
  {
   "cell_type": "code",
   "execution_count": 22,
   "metadata": {},
   "outputs": [],
   "source": [
    "QUESTIONS_NUM_2019 = 0\n",
    "QUESTIONS_NUM_2020 = 0\n",
    "\n",
    "QUESTION_ID_TO_FEATURE_ID_2019 = {}\n",
    "QUESTION_ID_TO_FEATURE_ID_2020 = {}\n",
    "j = 0\n",
    "l = 0\n",
    "for i, group in df_results.groupby(['id']):\n",
    "    group['mask_max_len'] = group['mask'].map(len).max()\n",
    "    group['mask_len'] = group['mask'].map(len)\n",
    "    group_first = group[group['mask_max_len'] == group['mask_len']].head(1)\n",
    "    mask_len = len(group_first['mask'].values[0])\n",
    "    if int(group_first['dateStart'].dt.year) == 2019:\n",
    "        QUESTIONS_NUM_2019 += mask_len\n",
    "        QUESTION_ID_TO_FEATURE_ID_2019[i] = [k + j for k in range(mask_len)]\n",
    "        j += mask_len\n",
    "        \n",
    "    else:\n",
    "        QUESTIONS_NUM_2020 += mask_len\n",
    "        QUESTION_ID_TO_FEATURE_ID_2020[i] = [k + l for k in range(mask_len)]\n",
    "        l += mask_len\n",
    "    \n",
    "# Число вопрсоов\n",
    "df_results['mask_len'] = df_results['mask'].map(len)\n",
    "\n",
    "# Число игроков в команде\n",
    "df_results['players_len'] = df_results['playersId'].map(len)\n",
    "\n",
    "# Число наблюдений на игру\n",
    "df_results['obs_per_game'] = df_results['mask_len'] * df_results['players_len']\n",
    "\n",
    "OBS_NUM_2019 = df_results[df_results.dateStart.dt.year == 2019]['obs_per_game'].sum()\n",
    "OBS_NUM_2020 = df_results[df_results.dateStart.dt.year == 2020]['obs_per_game'].sum()\n"
   ]
  },
  {
   "cell_type": "code",
   "execution_count": 23,
   "metadata": {},
   "outputs": [
    {
     "name": "stdout",
     "output_type": "stream",
     "text": [
      "Число вопросов в 2019 году 33427 \n",
      "Число вопросов в 2020 году 7767\n",
      "Число наблюдений для 2019 года 17083344\n",
      "Число наблюдений для 2020 года 4157521\n"
     ]
    }
   ],
   "source": [
    "print(f'Число вопросов в 2019 году {QUESTIONS_NUM_2019} \\nЧисло вопросов в 2020 году {QUESTIONS_NUM_2020}')\n",
    "print(f'Число наблюдений для 2019 года {OBS_NUM_2019}\\nЧисло наблюдений для 2020 года {OBS_NUM_2020}')"
   ]
  },
  {
   "cell_type": "markdown",
   "metadata": {},
   "source": [
    "Разметка таблицы объекты–признаки"
   ]
  },
  {
   "cell_type": "code",
   "execution_count": 24,
   "metadata": {},
   "outputs": [
    {
     "data": {
      "text/html": [
       "<div>\n",
       "<style scoped>\n",
       "    .dataframe tbody tr th:only-of-type {\n",
       "        vertical-align: middle;\n",
       "    }\n",
       "\n",
       "    .dataframe tbody tr th {\n",
       "        vertical-align: top;\n",
       "    }\n",
       "\n",
       "    .dataframe thead th {\n",
       "        text-align: right;\n",
       "    }\n",
       "</style>\n",
       "<table border=\"1\" class=\"dataframe\">\n",
       "  <thead>\n",
       "    <tr style=\"text-align: right;\">\n",
       "      <th></th>\n",
       "      <th>team</th>\n",
       "      <th>mask</th>\n",
       "      <th>current</th>\n",
       "      <th>questionsTotal</th>\n",
       "      <th>synchRequest</th>\n",
       "      <th>position</th>\n",
       "      <th>controversials</th>\n",
       "      <th>flags</th>\n",
       "      <th>teamMembers</th>\n",
       "      <th>id</th>\n",
       "      <th>...</th>\n",
       "      <th>dateEnd</th>\n",
       "      <th>type</th>\n",
       "      <th>season</th>\n",
       "      <th>orgcommittee</th>\n",
       "      <th>synchData</th>\n",
       "      <th>questionQty</th>\n",
       "      <th>playersId</th>\n",
       "      <th>mask_len</th>\n",
       "      <th>players_len</th>\n",
       "      <th>obs_per_game</th>\n",
       "    </tr>\n",
       "  </thead>\n",
       "  <tbody>\n",
       "    <tr>\n",
       "      <th>280058</th>\n",
       "      <td>{'id': 45556, 'name': 'Рабочее название', 'tow...</td>\n",
       "      <td>[1, 1, 1, 1, 1, 1, 1, 1, 1, 0, 1, 1, 1, 1, 1, ...</td>\n",
       "      <td>{'name': 'Рабочее название', 'town': {'id': 28...</td>\n",
       "      <td>28.0</td>\n",
       "      <td>{'id': 56392, 'venue': {'id': 3030, 'name': 'С...</td>\n",
       "      <td>1.0</td>\n",
       "      <td>[{'id': 91169, 'questionNumber': 15, 'answer':...</td>\n",
       "      <td>[]</td>\n",
       "      <td>[{'flag': 'Б', 'usedRating': 13507, 'rating': ...</td>\n",
       "      <td>4772</td>\n",
       "      <td>...</td>\n",
       "      <td>2019-01-09 16:00:00+00:00</td>\n",
       "      <td>{'id': 3, 'name': 'Синхрон'}</td>\n",
       "      <td>/seasons/52</td>\n",
       "      <td>[{'id': 28379, 'name': 'Константин', 'patronym...</td>\n",
       "      <td>{'dateRequestsAllowedTo': '2019-01-09T23:59:59...</td>\n",
       "      <td>{'1': 12, '2': 12, '3': 12}</td>\n",
       "      <td>[6212, 15456, 18036, 18332, 22799, 26089]</td>\n",
       "      <td>36</td>\n",
       "      <td>6</td>\n",
       "      <td>216</td>\n",
       "    </tr>\n",
       "    <tr>\n",
       "      <th>280059</th>\n",
       "      <td>{'id': 1030, 'name': 'Сборная Бутана', 'town':...</td>\n",
       "      <td>[1, 1, 1, 1, 1, 1, 1, 1, 1, 0, 1, 1, 1, 1, 0, ...</td>\n",
       "      <td>{'name': 'Сборная Бутана', 'town': {'id': 346,...</td>\n",
       "      <td>25.0</td>\n",
       "      <td>{'id': 56690, 'venue': {'id': 3151, 'name': 'У...</td>\n",
       "      <td>5.5</td>\n",
       "      <td>[]</td>\n",
       "      <td>[]</td>\n",
       "      <td>[{'flag': None, 'usedRating': 13058, 'rating':...</td>\n",
       "      <td>4772</td>\n",
       "      <td>...</td>\n",
       "      <td>2019-01-09 16:00:00+00:00</td>\n",
       "      <td>{'id': 3, 'name': 'Синхрон'}</td>\n",
       "      <td>/seasons/52</td>\n",
       "      <td>[{'id': 28379, 'name': 'Константин', 'patronym...</td>\n",
       "      <td>{'dateRequestsAllowedTo': '2019-01-09T23:59:59...</td>\n",
       "      <td>{'1': 12, '2': 12, '3': 12}</td>\n",
       "      <td>[1584, 1585, 10998, 16206, 40840]</td>\n",
       "      <td>36</td>\n",
       "      <td>5</td>\n",
       "      <td>180</td>\n",
       "    </tr>\n",
       "  </tbody>\n",
       "</table>\n",
       "<p>2 rows × 22 columns</p>\n",
       "</div>"
      ],
      "text/plain": [
       "                                                     team  \\\n",
       "280058  {'id': 45556, 'name': 'Рабочее название', 'tow...   \n",
       "280059  {'id': 1030, 'name': 'Сборная Бутана', 'town':...   \n",
       "\n",
       "                                                     mask  \\\n",
       "280058  [1, 1, 1, 1, 1, 1, 1, 1, 1, 0, 1, 1, 1, 1, 1, ...   \n",
       "280059  [1, 1, 1, 1, 1, 1, 1, 1, 1, 0, 1, 1, 1, 1, 0, ...   \n",
       "\n",
       "                                                  current  questionsTotal  \\\n",
       "280058  {'name': 'Рабочее название', 'town': {'id': 28...            28.0   \n",
       "280059  {'name': 'Сборная Бутана', 'town': {'id': 346,...            25.0   \n",
       "\n",
       "                                             synchRequest  position  \\\n",
       "280058  {'id': 56392, 'venue': {'id': 3030, 'name': 'С...       1.0   \n",
       "280059  {'id': 56690, 'venue': {'id': 3151, 'name': 'У...       5.5   \n",
       "\n",
       "                                           controversials flags  \\\n",
       "280058  [{'id': 91169, 'questionNumber': 15, 'answer':...    []   \n",
       "280059                                                 []    []   \n",
       "\n",
       "                                              teamMembers    id  ...  \\\n",
       "280058  [{'flag': 'Б', 'usedRating': 13507, 'rating': ...  4772  ...   \n",
       "280059  [{'flag': None, 'usedRating': 13058, 'rating':...  4772  ...   \n",
       "\n",
       "                         dateEnd                          type       season  \\\n",
       "280058 2019-01-09 16:00:00+00:00  {'id': 3, 'name': 'Синхрон'}  /seasons/52   \n",
       "280059 2019-01-09 16:00:00+00:00  {'id': 3, 'name': 'Синхрон'}  /seasons/52   \n",
       "\n",
       "                                             orgcommittee  \\\n",
       "280058  [{'id': 28379, 'name': 'Константин', 'patronym...   \n",
       "280059  [{'id': 28379, 'name': 'Константин', 'patronym...   \n",
       "\n",
       "                                                synchData  \\\n",
       "280058  {'dateRequestsAllowedTo': '2019-01-09T23:59:59...   \n",
       "280059  {'dateRequestsAllowedTo': '2019-01-09T23:59:59...   \n",
       "\n",
       "                        questionQty  \\\n",
       "280058  {'1': 12, '2': 12, '3': 12}   \n",
       "280059  {'1': 12, '2': 12, '3': 12}   \n",
       "\n",
       "                                        playersId mask_len players_len  \\\n",
       "280058  [6212, 15456, 18036, 18332, 22799, 26089]       36           6   \n",
       "280059          [1584, 1585, 10998, 16206, 40840]       36           5   \n",
       "\n",
       "        obs_per_game  \n",
       "280058           216  \n",
       "280059           180  \n",
       "\n",
       "[2 rows x 22 columns]"
      ]
     },
     "execution_count": 24,
     "metadata": {},
     "output_type": "execute_result"
    }
   ],
   "source": [
    "df_results.head(2)"
   ]
  },
  {
   "cell_type": "markdown",
   "metadata": {},
   "source": [
    "# 2 Baseline модель"
   ]
  },
  {
   "cell_type": "code",
   "execution_count": 25,
   "metadata": {},
   "outputs": [],
   "source": [
    "from collections import deque\n",
    "def extract_features(data, question_id_map):\n",
    "    res_player_id = deque([])\n",
    "    res_question_id = deque([])\n",
    "    res_target_id = deque([])\n",
    "    res_index = deque([])\n",
    "    for i, tup in tqdm(data.iterrows()):\n",
    "        season = tup['season']\n",
    "        game_id = tup['id']\n",
    "        \n",
    "        question_id = question_id_map[game_id]\n",
    "        \n",
    "        # расширение маски до максимальной среди игр данного id\n",
    "        mask = list(tup['mask']) \n",
    "        mask = mask + [0] * (len(question_id) - len(mask))\n",
    "        \n",
    "        # упаковка маски и id вопросов\n",
    "        target = list(zip(mask, question_id))\n",
    "        \n",
    "        # id игроков\n",
    "        players = list(tup['playersId'])\n",
    "        \n",
    "        obs = list(product(players, target))\n",
    "        \n",
    "        players_obs = [p[0] for p in obs]\n",
    "        question_obs = [q[1][1] for q in obs]\n",
    "        target = [t[1][0] for t in obs]\n",
    "        \n",
    "        # game team index\n",
    "        index = [i] * len(target)\n",
    "        \n",
    "        res_player_id.extend(players_obs)\n",
    "        res_question_id.extend(question_obs)\n",
    "        res_target_id.extend(target)\n",
    "        res_index.extend(index)\n",
    "    return pd.DataFrame({\n",
    "        'player_id': res_player_id,\n",
    "        'question_id': res_question_id,\n",
    "        'target': res_target_id,\n",
    "        'index': res_index}, dtype=np.int32)"
   ]
  },
  {
   "cell_type": "code",
   "execution_count": 26,
   "metadata": {},
   "outputs": [
    {
     "name": "stderr",
     "output_type": "stream",
     "text": [
      "79692it [00:14, 5430.18it/s]\n"
     ]
    }
   ],
   "source": [
    "df_2019 = extract_features(df_results[df_results.dateStart.dt.year == 2019], QUESTION_ID_TO_FEATURE_ID_2019)"
   ]
  },
  {
   "cell_type": "code",
   "execution_count": 27,
   "metadata": {},
   "outputs": [],
   "source": [
    "# Используем OneHot - вектора по ID игроков и вопросов в качестве признаков для обучения модели\n",
    "ohe_player = OneHotEncoder()\n",
    "ohe_player_encoded = ohe_player.fit_transform(df_2019.player_id.to_numpy().reshape(-1, 1))\n",
    "\n",
    "ohe_questions = OneHotEncoder()\n",
    "ohe_questions_encoded = ohe_questions.fit_transform(df_2019.question_id.to_numpy().reshape(-1, 1))\n",
    "\n",
    "X_train = sparse.csr_matrix(hstack([ohe_player_encoded, ohe_questions_encoded]))\n",
    "y_train = df_2019[['target']]"
   ]
  },
  {
   "cell_type": "code",
   "execution_count": 28,
   "metadata": {},
   "outputs": [
    {
     "data": {
      "text/plain": [
       "<20410413x57516 sparse matrix of type '<class 'numpy.float64'>'\n",
       "\twith 40820826 stored elements in Compressed Sparse Row format>"
      ]
     },
     "execution_count": 28,
     "metadata": {},
     "output_type": "execute_result"
    }
   ],
   "source": [
    "X_train"
   ]
  },
  {
   "cell_type": "code",
   "execution_count": 29,
   "metadata": {},
   "outputs": [
    {
     "data": {
      "text/plain": [
       "((20410413, 57516), (20410413, 1))"
      ]
     },
     "execution_count": 29,
     "metadata": {},
     "output_type": "execute_result"
    }
   ],
   "source": [
    "X_train.shape, y_train.shape"
   ]
  },
  {
   "cell_type": "code",
   "execution_count": 30,
   "metadata": {},
   "outputs": [
    {
     "name": "stderr",
     "output_type": "stream",
     "text": [
      "[Parallel(n_jobs=-1)]: Using backend LokyBackend with 12 concurrent workers.\n",
      "[Parallel(n_jobs=-1)]: Done   1 out of   1 | elapsed:  4.1min finished\n"
     ]
    },
    {
     "data": {
      "text/plain": [
       "LogisticRegression(max_iter=150, n_jobs=-1, verbose=2)"
      ]
     },
     "execution_count": 30,
     "metadata": {},
     "output_type": "execute_result"
    }
   ],
   "source": [
    "model_lr = LogisticRegression(n_jobs=-1, max_iter=150, verbose=2)\n",
    "model_lr.fit(X_train, y_train)"
   ]
  },
  {
   "cell_type": "code",
   "execution_count": 31,
   "metadata": {},
   "outputs": [],
   "source": [
    "def get_players_rank_df(coef, ohe_player, df_players):\n",
    "    players_rank = pd.DataFrame(\n",
    "    {'player_id': ohe_player.categories_[0],\n",
    "     'score': coef[: ohe_player_encoded.shape[1]]\n",
    "    })\n",
    "    df_players['fio'] = df_players.apply(lambda x: str(x[3])+' '+ str(x[1])+' '+ str(x[2]), axis=1)\n",
    "    map_players_id = df_players[['id', 'fio']].to_dict()['fio']\n",
    "    players_rank['name'] = players_rank['player_id'].map(map_players_id)\n",
    "    return players_rank"
   ]
  },
  {
   "cell_type": "code",
   "execution_count": 32,
   "metadata": {},
   "outputs": [
    {
     "data": {
      "text/html": [
       "<div>\n",
       "<style scoped>\n",
       "    .dataframe tbody tr th:only-of-type {\n",
       "        vertical-align: middle;\n",
       "    }\n",
       "\n",
       "    .dataframe tbody tr th {\n",
       "        vertical-align: top;\n",
       "    }\n",
       "\n",
       "    .dataframe thead th {\n",
       "        text-align: right;\n",
       "    }\n",
       "</style>\n",
       "<table border=\"1\" class=\"dataframe\">\n",
       "  <thead>\n",
       "    <tr style=\"text-align: right;\">\n",
       "      <th></th>\n",
       "      <th>player_id</th>\n",
       "      <th>score</th>\n",
       "      <th>name</th>\n",
       "    </tr>\n",
       "  </thead>\n",
       "  <tbody>\n",
       "    <tr>\n",
       "      <th>0</th>\n",
       "      <td>15</td>\n",
       "      <td>-0.158260</td>\n",
       "      <td>Абарников Олег Игоревич</td>\n",
       "    </tr>\n",
       "    <tr>\n",
       "      <th>1</th>\n",
       "      <td>16</td>\n",
       "      <td>-1.133803</td>\n",
       "      <td>Абасалиев Азер Абасали оглы</td>\n",
       "    </tr>\n",
       "    <tr>\n",
       "      <th>2</th>\n",
       "      <td>23</td>\n",
       "      <td>-0.732028</td>\n",
       "      <td>Абащенко Андрей Николаевич</td>\n",
       "    </tr>\n",
       "    <tr>\n",
       "      <th>3</th>\n",
       "      <td>31</td>\n",
       "      <td>-0.799772</td>\n",
       "      <td>Абасова Ситара Фахраддин гызы</td>\n",
       "    </tr>\n",
       "    <tr>\n",
       "      <th>4</th>\n",
       "      <td>35</td>\n",
       "      <td>-0.715112</td>\n",
       "      <td>Абгарян Нарек Гагикович</td>\n",
       "    </tr>\n",
       "  </tbody>\n",
       "</table>\n",
       "</div>"
      ],
      "text/plain": [
       "   player_id     score                           name\n",
       "0         15 -0.158260        Абарников Олег Игоревич\n",
       "1         16 -1.133803    Абасалиев Азер Абасали оглы\n",
       "2         23 -0.732028     Абащенко Андрей Николаевич\n",
       "3         31 -0.799772  Абасова Ситара Фахраддин гызы\n",
       "4         35 -0.715112        Абгарян Нарек Гагикович"
      ]
     },
     "execution_count": 32,
     "metadata": {},
     "output_type": "execute_result"
    }
   ],
   "source": [
    "players_rank = get_players_rank_df(-model_lr.coef_[0], ohe_player, df_players)\n",
    "players_rank.head()"
   ]
  },
  {
   "cell_type": "code",
   "execution_count": 33,
   "metadata": {},
   "outputs": [
    {
     "data": {
      "text/html": [
       "<div>\n",
       "<style scoped>\n",
       "    .dataframe tbody tr th:only-of-type {\n",
       "        vertical-align: middle;\n",
       "    }\n",
       "\n",
       "    .dataframe tbody tr th {\n",
       "        vertical-align: top;\n",
       "    }\n",
       "\n",
       "    .dataframe thead th {\n",
       "        text-align: right;\n",
       "    }\n",
       "</style>\n",
       "<table border=\"1\" class=\"dataframe\">\n",
       "  <thead>\n",
       "    <tr style=\"text-align: right;\">\n",
       "      <th></th>\n",
       "      <th>player_id</th>\n",
       "      <th>score</th>\n",
       "      <th>name</th>\n",
       "    </tr>\n",
       "  </thead>\n",
       "  <tbody>\n",
       "    <tr>\n",
       "      <th>19188</th>\n",
       "      <td>207704</td>\n",
       "      <td>4.135565</td>\n",
       "      <td>Ильина Анастасия Михайловна</td>\n",
       "    </tr>\n",
       "    <tr>\n",
       "      <th>19191</th>\n",
       "      <td>207707</td>\n",
       "      <td>4.135565</td>\n",
       "      <td>Сычкин Антон Денисович</td>\n",
       "    </tr>\n",
       "    <tr>\n",
       "      <th>19186</th>\n",
       "      <td>207702</td>\n",
       "      <td>4.135565</td>\n",
       "      <td>Безъязыкова Дарья Александровна</td>\n",
       "    </tr>\n",
       "    <tr>\n",
       "      <th>19187</th>\n",
       "      <td>207703</td>\n",
       "      <td>4.135565</td>\n",
       "      <td>Петрушова Дарья Александровна</td>\n",
       "    </tr>\n",
       "    <tr>\n",
       "      <th>19190</th>\n",
       "      <td>207706</td>\n",
       "      <td>4.135565</td>\n",
       "      <td>Насыров Иван Владимирович</td>\n",
       "    </tr>\n",
       "    <tr>\n",
       "      <th>19189</th>\n",
       "      <td>207705</td>\n",
       "      <td>4.135565</td>\n",
       "      <td>Малыгина Кристина Александровна</td>\n",
       "    </tr>\n",
       "    <tr>\n",
       "      <th>18754</th>\n",
       "      <td>207015</td>\n",
       "      <td>4.057801</td>\n",
       "      <td>Иванов Андрей Антонович</td>\n",
       "    </tr>\n",
       "    <tr>\n",
       "      <th>18755</th>\n",
       "      <td>207018</td>\n",
       "      <td>4.057801</td>\n",
       "      <td>Карлова Эвелина Алексеевна</td>\n",
       "    </tr>\n",
       "    <tr>\n",
       "      <th>18756</th>\n",
       "      <td>207019</td>\n",
       "      <td>4.057801</td>\n",
       "      <td>Крук Марк Владимирович</td>\n",
       "    </tr>\n",
       "    <tr>\n",
       "      <th>19197</th>\n",
       "      <td>207713</td>\n",
       "      <td>4.028760</td>\n",
       "      <td>Биктимирова Екатерина Олеговна</td>\n",
       "    </tr>\n",
       "    <tr>\n",
       "      <th>19198</th>\n",
       "      <td>207714</td>\n",
       "      <td>4.028760</td>\n",
       "      <td>Копылова Мария Алексеевна</td>\n",
       "    </tr>\n",
       "    <tr>\n",
       "      <th>19199</th>\n",
       "      <td>207715</td>\n",
       "      <td>4.028760</td>\n",
       "      <td>Николаева Татьяна Александровна</td>\n",
       "    </tr>\n",
       "    <tr>\n",
       "      <th>19200</th>\n",
       "      <td>207716</td>\n",
       "      <td>4.028760</td>\n",
       "      <td>Жукова Светлана Евгеньевна</td>\n",
       "    </tr>\n",
       "    <tr>\n",
       "      <th>19201</th>\n",
       "      <td>207718</td>\n",
       "      <td>4.028760</td>\n",
       "      <td>Кривокорытов Максим Андреевич</td>\n",
       "    </tr>\n",
       "    <tr>\n",
       "      <th>22133</th>\n",
       "      <td>216696</td>\n",
       "      <td>3.944848</td>\n",
       "      <td>Лиховидов Александр</td>\n",
       "    </tr>\n",
       "    <tr>\n",
       "      <th>21460</th>\n",
       "      <td>213902</td>\n",
       "      <td>3.941571</td>\n",
       "      <td>Кофаль Сергей Николаевич</td>\n",
       "    </tr>\n",
       "    <tr>\n",
       "      <th>18684</th>\n",
       "      <td>206872</td>\n",
       "      <td>3.828558</td>\n",
       "      <td>Ландышева Валерия Александровна</td>\n",
       "    </tr>\n",
       "    <tr>\n",
       "      <th>18686</th>\n",
       "      <td>206877</td>\n",
       "      <td>3.828558</td>\n",
       "      <td>Яницкий Антон Игоревич</td>\n",
       "    </tr>\n",
       "    <tr>\n",
       "      <th>18682</th>\n",
       "      <td>206870</td>\n",
       "      <td>3.828558</td>\n",
       "      <td>Байрамова Фидан Вугаровна</td>\n",
       "    </tr>\n",
       "    <tr>\n",
       "      <th>22857</th>\n",
       "      <td>219529</td>\n",
       "      <td>3.824086</td>\n",
       "      <td>Мажаров Никита Дмитриевич</td>\n",
       "    </tr>\n",
       "    <tr>\n",
       "      <th>18685</th>\n",
       "      <td>206875</td>\n",
       "      <td>3.766666</td>\n",
       "      <td>Маслов Фёдор Михайлович</td>\n",
       "    </tr>\n",
       "    <tr>\n",
       "      <th>18683</th>\n",
       "      <td>206871</td>\n",
       "      <td>3.766666</td>\n",
       "      <td>Минакова Илона Викторовна</td>\n",
       "    </tr>\n",
       "    <tr>\n",
       "      <th>22112</th>\n",
       "      <td>216653</td>\n",
       "      <td>3.764032</td>\n",
       "      <td>Васильева Влада Юрьевна</td>\n",
       "    </tr>\n",
       "    <tr>\n",
       "      <th>19144</th>\n",
       "      <td>207636</td>\n",
       "      <td>3.746777</td>\n",
       "      <td>Попова Анастасия Олеговна</td>\n",
       "    </tr>\n",
       "    <tr>\n",
       "      <th>19145</th>\n",
       "      <td>207637</td>\n",
       "      <td>3.746777</td>\n",
       "      <td>Новикова Полина Сергеевна</td>\n",
       "    </tr>\n",
       "    <tr>\n",
       "      <th>19146</th>\n",
       "      <td>207638</td>\n",
       "      <td>3.746777</td>\n",
       "      <td>Ведерникова Ульяна Андреевна</td>\n",
       "    </tr>\n",
       "    <tr>\n",
       "      <th>19205</th>\n",
       "      <td>207722</td>\n",
       "      <td>3.746777</td>\n",
       "      <td>Тимошенко Алина Александровна</td>\n",
       "    </tr>\n",
       "    <tr>\n",
       "      <th>19208</th>\n",
       "      <td>207727</td>\n",
       "      <td>3.746777</td>\n",
       "      <td>Кривега Алина Витальевна</td>\n",
       "    </tr>\n",
       "    <tr>\n",
       "      <th>19203</th>\n",
       "      <td>207720</td>\n",
       "      <td>3.746777</td>\n",
       "      <td>Пономарёва Екатерина Константиновна</td>\n",
       "    </tr>\n",
       "    <tr>\n",
       "      <th>19204</th>\n",
       "      <td>207721</td>\n",
       "      <td>3.746777</td>\n",
       "      <td>Рудых Надежда Александровна</td>\n",
       "    </tr>\n",
       "  </tbody>\n",
       "</table>\n",
       "</div>"
      ],
      "text/plain": [
       "       player_id     score                                 name\n",
       "19188     207704  4.135565          Ильина Анастасия Михайловна\n",
       "19191     207707  4.135565               Сычкин Антон Денисович\n",
       "19186     207702  4.135565      Безъязыкова Дарья Александровна\n",
       "19187     207703  4.135565        Петрушова Дарья Александровна\n",
       "19190     207706  4.135565            Насыров Иван Владимирович\n",
       "19189     207705  4.135565      Малыгина Кристина Александровна\n",
       "18754     207015  4.057801              Иванов Андрей Антонович\n",
       "18755     207018  4.057801           Карлова Эвелина Алексеевна\n",
       "18756     207019  4.057801               Крук Марк Владимирович\n",
       "19197     207713  4.028760       Биктимирова Екатерина Олеговна\n",
       "19198     207714  4.028760            Копылова Мария Алексеевна\n",
       "19199     207715  4.028760      Николаева Татьяна Александровна\n",
       "19200     207716  4.028760           Жукова Светлана Евгеньевна\n",
       "19201     207718  4.028760        Кривокорытов Максим Андреевич\n",
       "22133     216696  3.944848                 Лиховидов Александр \n",
       "21460     213902  3.941571             Кофаль Сергей Николаевич\n",
       "18684     206872  3.828558      Ландышева Валерия Александровна\n",
       "18686     206877  3.828558               Яницкий Антон Игоревич\n",
       "18682     206870  3.828558            Байрамова Фидан Вугаровна\n",
       "22857     219529  3.824086            Мажаров Никита Дмитриевич\n",
       "18685     206875  3.766666              Маслов Фёдор Михайлович\n",
       "18683     206871  3.766666            Минакова Илона Викторовна\n",
       "22112     216653  3.764032              Васильева Влада Юрьевна\n",
       "19144     207636  3.746777            Попова Анастасия Олеговна\n",
       "19145     207637  3.746777            Новикова Полина Сергеевна\n",
       "19146     207638  3.746777         Ведерникова Ульяна Андреевна\n",
       "19205     207722  3.746777        Тимошенко Алина Александровна\n",
       "19208     207727  3.746777             Кривега Алина Витальевна\n",
       "19203     207720  3.746777  Пономарёва Екатерина Константиновна\n",
       "19204     207721  3.746777          Рудых Надежда Александровна"
      ]
     },
     "execution_count": 33,
     "metadata": {},
     "output_type": "execute_result"
    }
   ],
   "source": [
    "players_rank.sort_values('score', ascending=False).head(30)"
   ]
  },
  {
   "cell_type": "code",
   "execution_count": 34,
   "metadata": {},
   "outputs": [],
   "source": [
    "players_rank = players_rank.set_index('player_id')"
   ]
  },
  {
   "cell_type": "markdown",
   "metadata": {},
   "source": [
    "# 3 Оценка качества"
   ]
  },
  {
   "cell_type": "markdown",
   "metadata": {},
   "source": [
    "Для предсказания результатов нового турнира с известными составами, но неизвестными вопросами, в виде ранжирования команд будем использовать рейтинг команд, рассчитанный как среднее по рейтингам их членов."
   ]
  },
  {
   "cell_type": "markdown",
   "metadata": {},
   "source": [
    "В качестве метрики качества на тестовом наборе будем считать ранговые корреляции Спирмена и Кендалла между реальным ранжированием в результатах турнира и предсказанным моделью, усреднённые по тестовому множеству турниров за 2020 год."
   ]
  },
  {
   "cell_type": "markdown",
   "metadata": {},
   "source": [
    "Турниры где участвовало меньше двух команд я буду пропускать."
   ]
  },
  {
   "cell_type": "code",
   "execution_count": 35,
   "metadata": {},
   "outputs": [],
   "source": [
    "def correlation(data, players_rank):\n",
    "    \"\"\"\n",
    "    data: df_results сборный датасет где каждое наблюдение это игра команды\n",
    "    players_rank: ранг игрока player_id:index, score, name\n",
    "    \"\"\"\n",
    "    spearman_values = deque([])\n",
    "    kendalltau_values = deque([])\n",
    "\n",
    "    for i, group in tqdm(data.groupby('id')):\n",
    "        if group.shape[0] < 2:\n",
    "            continue\n",
    "\n",
    "        model_positions = []\n",
    "        exact_positions = []\n",
    "        for j, team in group.iterrows():\n",
    "            team_position = team['position']\n",
    "            team_players = team['playersId']\n",
    "\n",
    "            model_position = []\n",
    "            for player in team_players:\n",
    "                model_position.append(players_rank.loc[player]['score'])\n",
    "            model_position = np.mean(model_position)\n",
    "\n",
    "            exact_positions.append(team_position)\n",
    "            model_positions.append(model_position)\n",
    "\n",
    "        spearman_values.append(spearmanr(model_positions, exact_positions)[0])\n",
    "        kendalltau_values.append(kendalltau(model_positions, exact_positions)[0])\n",
    "    return(spearman_values, kendalltau_values)"
   ]
  },
  {
   "cell_type": "code",
   "execution_count": 203,
   "metadata": {},
   "outputs": [
    {
     "name": "stderr",
     "output_type": "stream",
     "text": [
      "100%|██████████| 171/171 [00:13<00:00, 12.45it/s]"
     ]
    },
    {
     "name": "stdout",
     "output_type": "stream",
     "text": [
      "Средний коэффициент ранговой корреляции Спирмена на тестовом множестве: 0.7489875741499045\n",
      "Средний коэффициент ранговой корреляции Кендалла на тестовом множестве: 0.5915188730769857\n"
     ]
    },
    {
     "name": "stderr",
     "output_type": "stream",
     "text": [
      "\n"
     ]
    }
   ],
   "source": [
    "spearman_values, kendalltau_values = correlation(df_results[df_results.dateStart.dt.year == 2020], players_rank)\n",
    "print(f'Средний коэффициент ранговой корреляции Спирмена на тестовом множестве: {np.mean(spearman_values)}')\n",
    "print(f'Средний коэффициент ранговой корреляции Кендалла на тестовом множестве: {np.mean(kendalltau_values)}')"
   ]
  },
  {
   "cell_type": "markdown",
   "metadata": {},
   "source": [
    "# 4 EM Алгоритм"
   ]
  },
  {
   "cell_type": "markdown",
   "metadata": {},
   "source": [
    "## E - шаг"
   ]
  },
  {
   "cell_type": "markdown",
   "metadata": {},
   "source": [
    "На данном шаге происходит обновление таргетов по следующему правилу:"
   ]
  },
  {
   "cell_type": "markdown",
   "metadata": {},
   "source": [
    "В случае если команда ответила на вопрос:\n",
    "$$z_{ij} = \\frac{\\sigma(s_i + q_j)}{1 - \\prod_{i'\\in t}(1 - \\sigma(s_{i'} + q_j))}$$\n"
   ]
  },
  {
   "cell_type": "markdown",
   "metadata": {},
   "source": [
    "Tсли команда НЕ ответила на вопрос:\n",
    "$$z_{ij} = 0$$"
   ]
  },
  {
   "cell_type": "markdown",
   "metadata": {},
   "source": [
    "Исходно эти параметры берутся из baseline модели, в регрессии это веса.\n",
    "<br>$s_i$ – скилл игрока\n",
    "<br>$q_j$ – сложность вопроса\n",
    "<br>$z_{ij}$def sigmoid(x):\n",
    "    return 1 / (1 + np.exp(-x)) – ответ игрока i на вопрос j c учетом принадлежности к команде\n",
    "<br>Обучающая матрица не меняется. Меняются только веса $s_i$ и $q_j$\n",
    "</tab><br>Числитель это вероятность i игроком ответить на вопрос j\n",
    "<br>Знаменатель – вероятность того, что остальные игроки не ответили на вопросы. Рассмотрим пограничные случаи: <pre><br>1) Пусть все игроки команды ответили на вопрос с высокой вероятностью (близкой к 1), тогда игрок в числителе никак не повлиял на решение данной задачи. Знаменатель превращается в 1.  <br>2) Ни один из игроков кроме того, который в числителе не дал ответа на вопрос. Значит в знаменателе получается число близкое к 0. Следовательно игрок в числителе внес огромный вклад в решение задачи."
   ]
  },
  {
   "cell_type": "code",
   "execution_count": 36,
   "metadata": {},
   "outputs": [],
   "source": [
    "ohe_dict_player = {player: i for i, player in enumerate(ohe_player.categories_[0])}\n",
    "ohe_dict_question = {question: i + len(ohe_dict_player) for i, question in enumerate(ohe_questions.categories_[0])}\n",
    "\n",
    "def sigmoid(x):\n",
    "    return 1 / (1 + np.exp(-x))\n",
    "\n",
    "def sigmoid_product(s_i, q):\n",
    "    \"\"\"\n",
    "    s_i: s_i' силы всех игроков кроме текущего \n",
    "    q_j: q_j' сложность текущего вопроса\n",
    "    \"\"\"\n",
    "    s_i = np.asarray(s_i) + q\n",
    "    return np.product(1 - np.asarray(list(map(sigmoid, s_i))))\n",
    "\n",
    "def update_target(params, train_data, data_prepare):\n",
    "    \"\"\"\n",
    "    params: параметры модели логрег\n",
    "    n_users: число игроков\n",
    "    n_questions: число вопрсов\n",
    "    train_data: тренировочный набор данных\n",
    "    data_prepare: набор данных из которого был создан тренировочный\n",
    "    \"\"\"\n",
    "    target = deque([])\n",
    "    for i, group in tqdm(train_data.groupby('index')):\n",
    "        players = data_prepare.loc[i]['playersId']\n",
    "        for sub_group in group.values:\n",
    "            current_player = sub_group[0]\n",
    "            cuttent_question = sub_group[1]\n",
    "            other_players = np.setdiff1d(players, current_player)\n",
    "            \n",
    "            \n",
    "            s_i = params[ohe_dict_player[current_player]]\n",
    "            q_j = params[ohe_dict_question[cuttent_question]]\n",
    "            \n",
    "            s_i_others = list(map(lambda x: ohe_dict_player[x], other_players))\n",
    "            numerator = sigmoid(s_i + q_j)\n",
    "            denominator = 1 - sigmoid_product(s_i_others, q_j)\n",
    "            target.append(numerator / denominator)\n",
    "    return target"
   ]
  },
  {
   "cell_type": "code",
   "execution_count": 159,
   "metadata": {},
   "outputs": [
    {
     "name": "stderr",
     "output_type": "stream",
     "text": [
      "100%|██████████| 79692/79692 [26:34<00:00, 49.99it/s]  \n"
     ]
    }
   ],
   "source": [
    "updated_target = update_target(model_lr.coef_[0], df_2019, df_results)"
   ]
  },
  {
   "cell_type": "markdown",
   "metadata": {},
   "source": [
    "## M - шаг"
   ]
  },
  {
   "cell_type": "markdown",
   "metadata": {},
   "source": [
    "На данном шаге происходит обучение линейной регрессии на новый таргет"
   ]
  },
  {
   "cell_type": "markdown",
   "metadata": {},
   "source": [
    "## Обучение по EM схеме logreg"
   ]
  },
  {
   "cell_type": "code",
   "execution_count": 450,
   "metadata": {},
   "outputs": [],
   "source": [
    "def optimal_threshold(true_target, predictions):\n",
    "    fpr, tpr, thresholds = roc_curve(true_target, predictions)\n",
    "    optimal_idx = np.argmax(tpr - fpr)\n",
    "    optimal_threshold = thresholds[optimal_idx]\n",
    "    return optimal_threshold"
   ]
  },
  {
   "cell_type": "code",
   "execution_count": 451,
   "metadata": {},
   "outputs": [
    {
     "name": "stderr",
     "output_type": "stream",
     "text": [
      "[Parallel(n_jobs=-1)]: Using backend LokyBackend with 12 concurrent workers.\n",
      "[Parallel(n_jobs=-1)]: Done   1 out of   1 | elapsed:  1.4min finished\n"
     ]
    },
    {
     "data": {
      "text/plain": [
       "LogisticRegression(max_iter=50, n_jobs=-1, verbose=2, warm_start=True)"
      ]
     },
     "execution_count": 451,
     "metadata": {},
     "output_type": "execute_result"
    }
   ],
   "source": [
    "model_em = LogisticRegression(n_jobs=-1, max_iter=50, verbose=2, warm_start=True)\n",
    "model_em.fit(X_train, y_train)"
   ]
  },
  {
   "cell_type": "code",
   "execution_count": 452,
   "metadata": {},
   "outputs": [
    {
     "name": "stderr",
     "output_type": "stream",
     "text": [
      "100%|██████████| 171/171 [00:13<00:00, 12.39it/s]"
     ]
    },
    {
     "name": "stdout",
     "output_type": "stream",
     "text": [
      "Средний коэффициент ранговой корреляции Спирмена на тестовом множестве: 0.7489875741499045\n",
      "Средний коэффициент ранговой корреляции Кендалла на тестовом множестве: 0.5915188730769857\n"
     ]
    },
    {
     "name": "stderr",
     "output_type": "stream",
     "text": [
      "\n"
     ]
    }
   ],
   "source": [
    "players_rank = get_players_rank_df(-model_em.coef_[0], ohe_player, df_players)\n",
    "players_rank = players_rank.set_index('player_id')\n",
    "players_rank.head()\n",
    "\n",
    "spearman_values, kendalltau_values = correlation(df_results[df_results.dateStart.dt.year == 2020], players_rank)\n",
    "print(f'Средний коэффициент ранговой корреляции Спирмена на тестовом множестве: {np.mean(spearman_values)}')\n",
    "print(f'Средний коэффициент ранговой корреляции Кендалла на тестовом множестве: {np.mean(kendalltau_values)}')"
   ]
  },
  {
   "cell_type": "code",
   "execution_count": 453,
   "metadata": {},
   "outputs": [
    {
     "name": "stderr",
     "output_type": "stream",
     "text": [
      "100%|██████████| 79692/79692 [26:00<00:00, 51.06it/s]  \n"
     ]
    }
   ],
   "source": [
    "params = [model_em.coef_[0]]\n",
    "correlations = {'spearman': [np.mean(spearman_values)], 'kendalltau': [np.mean(kendalltau_values)]}\n",
    "\n",
    "updated_target = update_target(model_em.coef_[0], df_2019, df_results)\n",
    "y_train = np.asarray(updated_target)\n",
    "y_train[y_train > 1] = 1\n",
    "\n",
    "treshold = optimal_threshold(df_2019['target'], y_train)\n",
    "y_train = (y_train > treshold).astype(np.int8)"
   ]
  },
  {
   "cell_type": "code",
   "execution_count": null,
   "metadata": {},
   "outputs": [],
   "source": [
    "for i in tqdm(range(3)):\n",
    "    model_em.fit(X_train, y_train)\n",
    "    params.append(model_em.coef_[0])\n",
    "    \n",
    "    players_rank = get_players_rank_df(-model_em.coef_[0], ohe_player, df_players)\n",
    "    players_rank = players_rank.set_index('player_id')\n",
    "    spearman_values, kendalltau_values = correlation(df_results[df_results.dateStart.dt.year == 2020], players_rank)\n",
    "    \n",
    "    correlations['spearman'].append(np.mean(spearman_values))\n",
    "    correlations['kendalltau'].append(np.mean(kendalltau_values))\n",
    "    \n",
    "    if i < 2:\n",
    "        updated_target = update_target(model_em.coef_[0], df_2019, df_results)\n",
    "        y_train = np.asarray(updated_target)\n",
    "        y_train[y_train > 1] = 1\n",
    "        treshold = optimal_threshold(df_2019['target'], y_train)\n",
    "        y_train = (y_train > treshold).astype(np.int8)"
   ]
  },
  {
   "cell_type": "code",
   "execution_count": 456,
   "metadata": {},
   "outputs": [
    {
     "data": {
      "text/plain": [
       "[array([-1.47413472e+00,  3.65575317e-01, -4.91783519e-03, ...,\n",
       "        -1.56596353e+01, -1.99456252e+01, -1.99456252e+01]),\n",
       " array([ -1.5782508 ,   0.46520859,  -0.19921165, ...,  -9.65012146,\n",
       "        -13.69896342, -13.69896342]),\n",
       " array([-0.53088113,  0.36580492, -0.41320861, ..., -7.13378687,\n",
       "        -6.68435088, -6.68435088]),\n",
       " array([ 0.43073791,  0.26054881, -0.59063446, ..., -8.21204736,\n",
       "        -8.29768185, -8.29768185])]"
      ]
     },
     "execution_count": 456,
     "metadata": {},
     "output_type": "execute_result"
    }
   ],
   "source": [
    "params"
   ]
  },
  {
   "cell_type": "code",
   "execution_count": 475,
   "metadata": {},
   "outputs": [
    {
     "name": "stdout",
     "output_type": "stream",
     "text": [
      "\n",
      "Номер итерации = 0\n",
      "Средний коэффициент ранговой корреляции Спирмена на тестовом множестве:0.7489875741499045\n",
      "Средний коэффициент ранговой корреляции Кендалла на тестовом множестве:0.5915188730769857\n",
      "\n",
      "Номер итерации = 1\n",
      "Средний коэффициент ранговой корреляции Спирмена на тестовом множестве:0.7489875741499045\n",
      "Средний коэффициент ранговой корреляции Кендалла на тестовом множестве:0.5915188730769857\n",
      "\n",
      "Номер итерации = 2\n",
      "Средний коэффициент ранговой корреляции Спирмена на тестовом множестве:0.7489875741499045\n",
      "Средний коэффициент ранговой корреляции Кендалла на тестовом множестве:0.5915188730769857\n",
      "\n",
      "Номер итерации = 3\n",
      "Средний коэффициент ранговой корреляции Спирмена на тестовом множестве:0.7489875741499045\n",
      "Средний коэффициент ранговой корреляции Кендалла на тестовом множестве:0.5915188730769857\n"
     ]
    }
   ],
   "source": [
    "for i in range(len(correlations['spearman'])):\n",
    "\n",
    "    print(f'\\nНомер итерации = {i}')\n",
    "    print(f\"Средний коэффициент ранговой корреляции Спирмена на тестовом множестве:{correlations['spearman'][i]}\")\n",
    "    print(f\"Средний коэффициент ранговой корреляции Кендалла на тестовом множестве:{correlations['kendalltau'][i]}\")"
   ]
  },
  {
   "cell_type": "markdown",
   "metadata": {},
   "source": [
    "Обучение не дало прироста качества"
   ]
  },
  {
   "cell_type": "markdown",
   "metadata": {},
   "source": [
    "## Обучение по EM схеме linreg"
   ]
  },
  {
   "cell_type": "markdown",
   "metadata": {},
   "source": [
    "За основу возьмем результат работы baseline logreg"
   ]
  },
  {
   "cell_type": "code",
   "execution_count": 48,
   "metadata": {},
   "outputs": [],
   "source": [
    "model_linreg = SGDRegressor(warm_start=True, loss='squared_loss', max_iter=50, verbose=2)"
   ]
  },
  {
   "cell_type": "code",
   "execution_count": 39,
   "metadata": {},
   "outputs": [
    {
     "name": "stderr",
     "output_type": "stream",
     "text": [
      "100%|██████████| 79692/79692 [25:35<00:00, 51.89it/s]  \n"
     ]
    }
   ],
   "source": [
    "updated_target = update_target(model_lr.coef_[0], df_2019, df_results)\n",
    "y_train = np.asarray(updated_target)\n",
    "y_train[y_train > 1] = 1"
   ]
  },
  {
   "cell_type": "code",
   "execution_count": 51,
   "metadata": {},
   "outputs": [
    {
     "name": "stdout",
     "output_type": "stream",
     "text": [
      "-- Epoch 1\n",
      "Norm: 7.39, NNZs: 57516, Bias: 0.588434, T: 20410413, Avg. loss: 0.032671\n",
      "Total training time: 6.73 seconds.\n",
      "-- Epoch 2\n",
      "Norm: 9.50, NNZs: 57516, Bias: 0.590529, T: 40820826, Avg. loss: 0.024743\n",
      "Total training time: 13.54 seconds.\n",
      "-- Epoch 3\n",
      "Norm: 10.59, NNZs: 57516, Bias: 0.591290, T: 61231239, Avg. loss: 0.022258\n",
      "Total training time: 21.06 seconds.\n",
      "-- Epoch 4\n",
      "Norm: 11.24, NNZs: 57516, Bias: 0.592085, T: 81641652, Avg. loss: 0.020994\n",
      "Total training time: 28.10 seconds.\n",
      "-- Epoch 5\n",
      "Norm: 11.65, NNZs: 57516, Bias: 0.592936, T: 102052065, Avg. loss: 0.020253\n",
      "Total training time: 34.73 seconds.\n",
      "-- Epoch 6\n",
      "Norm: 11.92, NNZs: 57516, Bias: 0.593056, T: 122462478, Avg. loss: 0.019783\n",
      "Total training time: 41.30 seconds.\n",
      "-- Epoch 7\n",
      "Norm: 12.11, NNZs: 57516, Bias: 0.593157, T: 142872891, Avg. loss: 0.019469\n",
      "Total training time: 47.75 seconds.\n",
      "-- Epoch 8\n",
      "Norm: 12.25, NNZs: 57516, Bias: 0.593204, T: 163283304, Avg. loss: 0.019252\n",
      "Total training time: 54.42 seconds.\n",
      "-- Epoch 9\n",
      "Norm: 12.35, NNZs: 57516, Bias: 0.593419, T: 183693717, Avg. loss: 0.019097\n",
      "Total training time: 61.13 seconds.\n",
      "Convergence after 9 epochs took 61.13 seconds\n"
     ]
    },
    {
     "name": "stderr",
     "output_type": "stream",
     "text": [
      "100%|██████████| 171/171 [00:13<00:00, 12.28it/s]"
     ]
    },
    {
     "name": "stdout",
     "output_type": "stream",
     "text": [
      "Средний коэффициент ранговой корреляции Спирмена на тестовом множестве: 0.6385683501634088\n",
      "Средний коэффициент ранговой корреляции Кендалла на тестовом множестве: 0.4858989381603166\n"
     ]
    },
    {
     "name": "stderr",
     "output_type": "stream",
     "text": [
      "\n"
     ]
    }
   ],
   "source": [
    "model_linreg.fit(X_train, y_train)\n",
    "\n",
    "params_linreg = [model_linreg.coef_]\n",
    "\n",
    "players_rank = get_players_rank_df(-model_linreg.coef_, ohe_player, df_players)\n",
    "players_rank = players_rank.set_index('player_id')\n",
    "players_rank.head()\n",
    "\n",
    "\n",
    "spearman_values, kendalltau_values = correlation(df_results[df_results.dateStart.dt.year == 2020], players_rank)\n",
    "correlations_linreg = {'spearman': [np.mean(spearman_values)], 'kendalltau': [np.mean(kendalltau_values)]}\n",
    "\n",
    "print(f'Средний коэффициент ранговой корреляции Спирмена на тестовом множестве: {np.mean(spearman_values)}')\n",
    "print(f'Средний коэффициент ранговой корреляции Кендалла на тестовом множестве: {np.mean(kendalltau_values)}')"
   ]
  },
  {
   "cell_type": "code",
   "execution_count": null,
   "metadata": {},
   "outputs": [],
   "source": []
  },
  {
   "cell_type": "code",
   "execution_count": 52,
   "metadata": {
    "collapsed": true,
    "jupyter": {
     "outputs_hidden": true
    }
   },
   "outputs": [
    {
     "name": "stdout",
     "output_type": "stream",
     "text": [
      "-- Epoch 1\n",
      "Norm: 12.49, NNZs: 57516, Bias: 0.593452, T: 20410413, Avg. loss: 0.018918\n",
      "Total training time: 6.61 seconds.\n",
      "-- Epoch 2\n",
      "Norm: 12.55, NNZs: 57516, Bias: 0.593632, T: 40820826, Avg. loss: 0.018800\n",
      "Total training time: 13.14 seconds.\n",
      "-- Epoch 3\n",
      "Norm: 12.59, NNZs: 57516, Bias: 0.593338, T: 61231239, Avg. loss: 0.018741\n",
      "Total training time: 19.68 seconds.\n",
      "-- Epoch 4\n",
      "Norm: 12.61, NNZs: 57516, Bias: 0.593558, T: 81641652, Avg. loss: 0.018701\n",
      "Total training time: 26.21 seconds.\n",
      "-- Epoch 5\n",
      "Norm: 12.63, NNZs: 57516, Bias: 0.593884, T: 102052065, Avg. loss: 0.018676\n",
      "Total training time: 32.98 seconds.\n",
      "-- Epoch 6\n",
      "Norm: 12.64, NNZs: 57516, Bias: 0.593924, T: 122462478, Avg. loss: 0.018657\n",
      "Total training time: 40.54 seconds.\n",
      "Convergence after 6 epochs took 40.54 seconds\n"
     ]
    },
    {
     "name": "stderr",
     "output_type": "stream",
     "text": [
      "100%|██████████| 171/171 [00:14<00:00, 11.94it/s]\n",
      "100%|██████████| 79692/79692 [28:26<00:00, 46.69it/s]   \n"
     ]
    },
    {
     "name": "stdout",
     "output_type": "stream",
     "text": [
      "-- Epoch 1\n",
      "Norm: 6.56, NNZs: 57516, Bias: 0.504600, T: 20410413, Avg. loss: 0.002635\n",
      "Total training time: 6.97 seconds.\n",
      "-- Epoch 2\n",
      "Norm: 4.64, NNZs: 57516, Bias: 0.504816, T: 40820826, Avg. loss: 0.001186\n",
      "Total training time: 13.64 seconds.\n",
      "-- Epoch 3\n",
      "Norm: 3.63, NNZs: 57516, Bias: 0.505094, T: 61231239, Avg. loss: 0.001018\n",
      "Total training time: 20.32 seconds.\n",
      "-- Epoch 4\n",
      "Norm: 3.04, NNZs: 57516, Bias: 0.505319, T: 81641652, Avg. loss: 0.001000\n",
      "Total training time: 26.98 seconds.\n",
      "-- Epoch 5\n",
      "Norm: 2.67, NNZs: 57516, Bias: 0.505471, T: 102052065, Avg. loss: 0.001012\n",
      "Total training time: 33.63 seconds.\n",
      "-- Epoch 6\n",
      "Norm: 2.43, NNZs: 57516, Bias: 0.505655, T: 122462478, Avg. loss: 0.001026\n",
      "Total training time: 40.57 seconds.\n",
      "-- Epoch 7\n",
      "Norm: 2.28, NNZs: 57516, Bias: 0.505741, T: 142872891, Avg. loss: 0.001039\n",
      "Total training time: 47.54 seconds.\n",
      "Convergence after 7 epochs took 47.54 seconds\n"
     ]
    },
    {
     "name": "stderr",
     "output_type": "stream",
     "text": [
      "100%|██████████| 171/171 [00:13<00:00, 12.31it/s]\n",
      "100%|██████████| 79692/79692 [25:59<00:00, 51.09it/s]  \n"
     ]
    },
    {
     "name": "stdout",
     "output_type": "stream",
     "text": [
      "-- Epoch 1\n",
      "Norm: 1.48, NNZs: 57516, Bias: 0.505050, T: 20410413, Avg. loss: 0.001016\n",
      "Total training time: 7.06 seconds.\n",
      "-- Epoch 2\n",
      "Norm: 1.30, NNZs: 57516, Bias: 0.505127, T: 40820826, Avg. loss: 0.000977\n",
      "Total training time: 13.52 seconds.\n",
      "-- Epoch 3\n",
      "Norm: 1.22, NNZs: 57516, Bias: 0.505196, T: 61231239, Avg. loss: 0.000972\n",
      "Total training time: 20.34 seconds.\n",
      "-- Epoch 4\n",
      "Norm: 1.18, NNZs: 57516, Bias: 0.505239, T: 81641652, Avg. loss: 0.000971\n",
      "Total training time: 27.34 seconds.\n",
      "-- Epoch 5\n",
      "Norm: 1.16, NNZs: 57516, Bias: 0.505282, T: 102052065, Avg. loss: 0.000972\n",
      "Total training time: 34.07 seconds.\n",
      "-- Epoch 6\n",
      "Norm: 1.15, NNZs: 57516, Bias: 0.505217, T: 122462478, Avg. loss: 0.000972\n",
      "Total training time: 40.58 seconds.\n",
      "Convergence after 6 epochs took 40.58 seconds\n"
     ]
    },
    {
     "name": "stderr",
     "output_type": "stream",
     "text": [
      "100%|██████████| 171/171 [00:13<00:00, 12.96it/s]\n"
     ]
    }
   ],
   "source": [
    "for i in range(3):\n",
    "    model_linreg.fit(X_train, y_train)\n",
    "    params_linreg.append(model_linreg.coef_)\n",
    "    \n",
    "    players_rank = get_players_rank_df(-model_linreg.coef_, ohe_player, df_players)\n",
    "    players_rank = players_rank.set_index('player_id')\n",
    "    spearman_values, kendalltau_values = correlation(df_results[df_results.dateStart.dt.year == 2020], players_rank)\n",
    "    \n",
    "    correlations_linreg['spearman'].append(np.mean(spearman_values))\n",
    "    correlations_linreg['kendalltau'].append(np.mean(kendalltau_values))\n",
    "    \n",
    "    if i < 2:\n",
    "        updated_target = update_target(model_linreg.coef_, df_2019, df_results)\n",
    "        y_train = np.asarray(updated_target)\n",
    "        y_train[y_train > 1] = 1\n"
   ]
  },
  {
   "cell_type": "code",
   "execution_count": 55,
   "metadata": {},
   "outputs": [
    {
     "name": "stdout",
     "output_type": "stream",
     "text": [
      "\n",
      "Номер итерации = 0\n",
      "Средний коэффициент ранговой корреляции Спирмена на тестовом множестве:0.6385683501634088\n",
      "Средний коэффициент ранговой корреляции Кендалла на тестовом множестве:0.4858989381603166\n",
      "\n",
      "Номер итерации = 1\n",
      "Средний коэффициент ранговой корреляции Спирмена на тестовом множестве:0.6408380687145345\n",
      "Средний коэффициент ранговой корреляции Кендалла на тестовом множестве:0.4882535636374567\n",
      "\n",
      "Номер итерации = 2\n",
      "Средний коэффициент ранговой корреляции Спирмена на тестовом множестве:0.5620497336091993\n",
      "Средний коэффициент ранговой корреляции Кендалла на тестовом множестве:0.42434255334822524\n",
      "\n",
      "Номер итерации = 3\n",
      "Средний коэффициент ранговой корреляции Спирмена на тестовом множестве:0.1751191718053372\n",
      "Средний коэффициент ранговой корреляции Кендалла на тестовом множестве:0.12336636512243908\n"
     ]
    }
   ],
   "source": [
    "for i in range(len(correlations_linreg['spearman'])):\n",
    "\n",
    "    print(f'\\nНомер итерации = {i}')\n",
    "    print(f\"Средний коэффициент ранговой корреляции Спирмена на тестовом множестве:{correlations_linreg['spearman'][i]}\")\n",
    "    print(f\"Средний коэффициент ранговой корреляции Кендалла на тестовом множестве:{correlations_linreg['kendalltau'][i]}\")"
   ]
  },
  {
   "cell_type": "markdown",
   "metadata": {},
   "source": [
    "Все стало только хуже... "
   ]
  },
  {
   "cell_type": "markdown",
   "metadata": {},
   "source": [
    "# 5 Топ самых сложных и легких турниров по вопросам "
   ]
  },
  {
   "cell_type": "code",
   "execution_count": 108,
   "metadata": {},
   "outputs": [],
   "source": [
    "df_2019['question_weight_id'] = df_2019['question_id'].map(ohe_dict_question)\n",
    "df_tournaments['weight'] = None"
   ]
  },
  {
   "cell_type": "code",
   "execution_count": 122,
   "metadata": {},
   "outputs": [
    {
     "name": "stderr",
     "output_type": "stream",
     "text": [
      "100%|██████████| 79692/79692 [00:46<00:00, 1711.33it/s]\n"
     ]
    }
   ],
   "source": [
    "for i, group in tqdm(df_2019.groupby('index')):\n",
    "    question_id = group['question_weight_id'].unique()\n",
    "    questions_weight = np.mean(model_lr.coef_[0][question_id])\n",
    "    df_tournaments.loc[df_results.loc[i]['id'], 'weight'] = questions_weight"
   ]
  },
  {
   "cell_type": "code",
   "execution_count": 127,
   "metadata": {},
   "outputs": [],
   "source": [
    "tmp_tournaments = df_tournaments[~df_tournaments['weight'].isna()][['name', 'weight']]"
   ]
  },
  {
   "cell_type": "code",
   "execution_count": 130,
   "metadata": {},
   "outputs": [
    {
     "data": {
      "text/html": [
       "<div>\n",
       "<style scoped>\n",
       "    .dataframe tbody tr th:only-of-type {\n",
       "        vertical-align: middle;\n",
       "    }\n",
       "\n",
       "    .dataframe tbody tr th {\n",
       "        vertical-align: top;\n",
       "    }\n",
       "\n",
       "    .dataframe thead th {\n",
       "        text-align: right;\n",
       "    }\n",
       "</style>\n",
       "<table border=\"1\" class=\"dataframe\">\n",
       "  <thead>\n",
       "    <tr style=\"text-align: right;\">\n",
       "      <th></th>\n",
       "      <th>name</th>\n",
       "      <th>weight</th>\n",
       "    </tr>\n",
       "  </thead>\n",
       "  <tbody>\n",
       "    <tr>\n",
       "      <th>6149</th>\n",
       "      <td>Чемпионат Санкт-Петербурга. Первая лига</td>\n",
       "      <td>-4.489098</td>\n",
       "    </tr>\n",
       "    <tr>\n",
       "      <th>5554</th>\n",
       "      <td>Гран-при Славянки. Общий зачёт</td>\n",
       "      <td>-2.762239</td>\n",
       "    </tr>\n",
       "    <tr>\n",
       "      <th>5553</th>\n",
       "      <td>Славянка без раздаток. Общий зачёт</td>\n",
       "      <td>-2.494519</td>\n",
       "    </tr>\n",
       "    <tr>\n",
       "      <th>5864</th>\n",
       "      <td>Гран-при Славянки. Общий зачет</td>\n",
       "      <td>-2.22424</td>\n",
       "    </tr>\n",
       "    <tr>\n",
       "      <th>6085</th>\n",
       "      <td>Серия Гран-при. Общий зачёт</td>\n",
       "      <td>-2.202348</td>\n",
       "    </tr>\n",
       "    <tr>\n",
       "      <th>5928</th>\n",
       "      <td>Угрюмый Ёрш</td>\n",
       "      <td>-2.128013</td>\n",
       "    </tr>\n",
       "    <tr>\n",
       "      <th>5684</th>\n",
       "      <td>Синхрон высшей лиги Москвы</td>\n",
       "      <td>-2.087865</td>\n",
       "    </tr>\n",
       "    <tr>\n",
       "      <th>5159</th>\n",
       "      <td>Первенство правого полушария</td>\n",
       "      <td>-1.895169</td>\n",
       "    </tr>\n",
       "    <tr>\n",
       "      <th>6101</th>\n",
       "      <td>Воображаемый музей</td>\n",
       "      <td>-1.892226</td>\n",
       "    </tr>\n",
       "    <tr>\n",
       "      <th>5587</th>\n",
       "      <td>Записки охотника</td>\n",
       "      <td>-1.624599</td>\n",
       "    </tr>\n",
       "    <tr>\n",
       "      <th>5025</th>\n",
       "      <td>Кубок городов</td>\n",
       "      <td>-1.615503</td>\n",
       "    </tr>\n",
       "    <tr>\n",
       "      <th>5693</th>\n",
       "      <td>Знание – Сила VI</td>\n",
       "      <td>-1.561952</td>\n",
       "    </tr>\n",
       "    <tr>\n",
       "      <th>5083</th>\n",
       "      <td>Ускользающая сова</td>\n",
       "      <td>-1.529485</td>\n",
       "    </tr>\n",
       "    <tr>\n",
       "      <th>5943</th>\n",
       "      <td>Чемпионат Мира. Этап 2 Группа С</td>\n",
       "      <td>-1.418374</td>\n",
       "    </tr>\n",
       "    <tr>\n",
       "      <th>5515</th>\n",
       "      <td>Чемпионат Минска. Лига А. Тур четвёртый</td>\n",
       "      <td>-1.394433</td>\n",
       "    </tr>\n",
       "    <tr>\n",
       "      <th>5741</th>\n",
       "      <td>All Cats Are Beautiful</td>\n",
       "      <td>-1.392909</td>\n",
       "    </tr>\n",
       "    <tr>\n",
       "      <th>5186</th>\n",
       "      <td>VERSUS: Коробейников vs. Матвеев</td>\n",
       "      <td>-1.368745</td>\n",
       "    </tr>\n",
       "    <tr>\n",
       "      <th>5421</th>\n",
       "      <td>Львов зимой. Адвокат</td>\n",
       "      <td>-1.323145</td>\n",
       "    </tr>\n",
       "    <tr>\n",
       "      <th>5161</th>\n",
       "      <td>Антибинго</td>\n",
       "      <td>-1.317594</td>\n",
       "    </tr>\n",
       "    <tr>\n",
       "      <th>5501</th>\n",
       "      <td>Кубок Кайнозоя</td>\n",
       "      <td>-1.315338</td>\n",
       "    </tr>\n",
       "  </tbody>\n",
       "</table>\n",
       "</div>"
      ],
      "text/plain": [
       "                                         name    weight\n",
       "6149  Чемпионат Санкт-Петербурга. Первая лига -4.489098\n",
       "5554           Гран-при Славянки. Общий зачёт -2.762239\n",
       "5553       Славянка без раздаток. Общий зачёт -2.494519\n",
       "5864           Гран-при Славянки. Общий зачет  -2.22424\n",
       "6085              Серия Гран-при. Общий зачёт -2.202348\n",
       "5928                              Угрюмый Ёрш -2.128013\n",
       "5684               Синхрон высшей лиги Москвы -2.087865\n",
       "5159             Первенство правого полушария -1.895169\n",
       "6101                       Воображаемый музей -1.892226\n",
       "5587                         Записки охотника -1.624599\n",
       "5025                            Кубок городов -1.615503\n",
       "5693                         Знание – Сила VI -1.561952\n",
       "5083                        Ускользающая сова -1.529485\n",
       "5943          Чемпионат Мира. Этап 2 Группа С -1.418374\n",
       "5515  Чемпионат Минска. Лига А. Тур четвёртый -1.394433\n",
       "5741                   All Cats Are Beautiful -1.392909\n",
       "5186         VERSUS: Коробейников vs. Матвеев -1.368745\n",
       "5421                     Львов зимой. Адвокат -1.323145\n",
       "5161                                Антибинго -1.317594\n",
       "5501                           Кубок Кайнозоя -1.315338"
      ]
     },
     "execution_count": 130,
     "metadata": {},
     "output_type": "execute_result"
    }
   ],
   "source": [
    "tmp_tournaments.sort_values('weight')[:20]"
   ]
  },
  {
   "cell_type": "code",
   "execution_count": 131,
   "metadata": {},
   "outputs": [
    {
     "data": {
      "text/html": [
       "<div>\n",
       "<style scoped>\n",
       "    .dataframe tbody tr th:only-of-type {\n",
       "        vertical-align: middle;\n",
       "    }\n",
       "\n",
       "    .dataframe tbody tr th {\n",
       "        vertical-align: top;\n",
       "    }\n",
       "\n",
       "    .dataframe thead th {\n",
       "        text-align: right;\n",
       "    }\n",
       "</style>\n",
       "<table border=\"1\" class=\"dataframe\">\n",
       "  <thead>\n",
       "    <tr style=\"text-align: right;\">\n",
       "      <th></th>\n",
       "      <th>name</th>\n",
       "      <th>weight</th>\n",
       "    </tr>\n",
       "  </thead>\n",
       "  <tbody>\n",
       "    <tr>\n",
       "      <th>5013</th>\n",
       "      <td>(а)Синхрон-lite. Лига старта. Эпизод V</td>\n",
       "      <td>2.34966</td>\n",
       "    </tr>\n",
       "    <tr>\n",
       "      <th>5702</th>\n",
       "      <td>(а)Синхрон-lite. Лига старта. Эпизод IX</td>\n",
       "      <td>2.328098</td>\n",
       "    </tr>\n",
       "    <tr>\n",
       "      <th>5698</th>\n",
       "      <td>(а)Синхрон-lite. Лига старта. Эпизод VII</td>\n",
       "      <td>2.310327</td>\n",
       "    </tr>\n",
       "    <tr>\n",
       "      <th>5706</th>\n",
       "      <td>(а)Синхрон-lite. Лига старта. Эпизод XI</td>\n",
       "      <td>2.290972</td>\n",
       "    </tr>\n",
       "    <tr>\n",
       "      <th>5009</th>\n",
       "      <td>(а)Синхрон-lite. Лига старта. Эпизод III</td>\n",
       "      <td>2.24123</td>\n",
       "    </tr>\n",
       "    <tr>\n",
       "      <th>5438</th>\n",
       "      <td>Синхрон Лиги Разума</td>\n",
       "      <td>2.063039</td>\n",
       "    </tr>\n",
       "    <tr>\n",
       "      <th>5011</th>\n",
       "      <td>(а)Синхрон-lite. Лига старта. Эпизод IV</td>\n",
       "      <td>2.039911</td>\n",
       "    </tr>\n",
       "    <tr>\n",
       "      <th>5704</th>\n",
       "      <td>(а)Синхрон-lite. Лига старта. Эпизод X</td>\n",
       "      <td>1.981407</td>\n",
       "    </tr>\n",
       "    <tr>\n",
       "      <th>6003</th>\n",
       "      <td>Второй тематический турнир имени Джоуи Триббиани</td>\n",
       "      <td>1.923832</td>\n",
       "    </tr>\n",
       "    <tr>\n",
       "      <th>5012</th>\n",
       "      <td>Школьный Синхрон-lite. Выпуск 2.5</td>\n",
       "      <td>1.913714</td>\n",
       "    </tr>\n",
       "    <tr>\n",
       "      <th>5313</th>\n",
       "      <td>(а)Синхрон-lite. Лига старта. Эпизод VI</td>\n",
       "      <td>1.89264</td>\n",
       "    </tr>\n",
       "    <tr>\n",
       "      <th>5990</th>\n",
       "      <td>Открытый кубок УМЭД</td>\n",
       "      <td>1.868053</td>\n",
       "    </tr>\n",
       "    <tr>\n",
       "      <th>5936</th>\n",
       "      <td>Школьная лига. I тур.</td>\n",
       "      <td>1.826481</td>\n",
       "    </tr>\n",
       "    <tr>\n",
       "      <th>6008</th>\n",
       "      <td>Малый кубок Физтеха</td>\n",
       "      <td>1.757956</td>\n",
       "    </tr>\n",
       "    <tr>\n",
       "      <th>5955</th>\n",
       "      <td>Школьная лига. III тур.</td>\n",
       "      <td>1.748555</td>\n",
       "    </tr>\n",
       "    <tr>\n",
       "      <th>5457</th>\n",
       "      <td>Студенческий чемпионат Калининградской области</td>\n",
       "      <td>1.730439</td>\n",
       "    </tr>\n",
       "    <tr>\n",
       "      <th>5855</th>\n",
       "      <td>Лига вузов. IV тур</td>\n",
       "      <td>1.72005</td>\n",
       "    </tr>\n",
       "    <tr>\n",
       "      <th>5705</th>\n",
       "      <td>Школьный Синхрон-lite. Выпуск 3.5</td>\n",
       "      <td>1.697783</td>\n",
       "    </tr>\n",
       "    <tr>\n",
       "      <th>5008</th>\n",
       "      <td>Школьный Синхрон-lite. Выпуск 2.3</td>\n",
       "      <td>1.693866</td>\n",
       "    </tr>\n",
       "    <tr>\n",
       "      <th>5729</th>\n",
       "      <td>Синхрон-lite. Выпуск XXX</td>\n",
       "      <td>1.679828</td>\n",
       "    </tr>\n",
       "  </tbody>\n",
       "</table>\n",
       "</div>"
      ],
      "text/plain": [
       "                                                  name    weight\n",
       "5013            (а)Синхрон-lite. Лига старта. Эпизод V   2.34966\n",
       "5702           (а)Синхрон-lite. Лига старта. Эпизод IX  2.328098\n",
       "5698          (а)Синхрон-lite. Лига старта. Эпизод VII  2.310327\n",
       "5706           (а)Синхрон-lite. Лига старта. Эпизод XI  2.290972\n",
       "5009          (а)Синхрон-lite. Лига старта. Эпизод III   2.24123\n",
       "5438                               Синхрон Лиги Разума  2.063039\n",
       "5011           (а)Синхрон-lite. Лига старта. Эпизод IV  2.039911\n",
       "5704            (а)Синхрон-lite. Лига старта. Эпизод X  1.981407\n",
       "6003  Второй тематический турнир имени Джоуи Триббиани  1.923832\n",
       "5012                 Школьный Синхрон-lite. Выпуск 2.5  1.913714\n",
       "5313           (а)Синхрон-lite. Лига старта. Эпизод VI   1.89264\n",
       "5990                               Открытый кубок УМЭД  1.868053\n",
       "5936                             Школьная лига. I тур.  1.826481\n",
       "6008                               Малый кубок Физтеха  1.757956\n",
       "5955                           Школьная лига. III тур.  1.748555\n",
       "5457    Студенческий чемпионат Калининградской области  1.730439\n",
       "5855                                Лига вузов. IV тур   1.72005\n",
       "5705                 Школьный Синхрон-lite. Выпуск 3.5  1.697783\n",
       "5008                 Школьный Синхрон-lite. Выпуск 2.3  1.693866\n",
       "5729                          Синхрон-lite. Выпуск XXX  1.679828"
      ]
     },
     "execution_count": 131,
     "metadata": {},
     "output_type": "execute_result"
    }
   ],
   "source": [
    "tmp_tournaments.sort_values('weight', ascending=False)[:20]"
   ]
  },
  {
   "cell_type": "markdown",
   "metadata": {},
   "source": [
    "В целом сложность вопрсов соотвествует логике, наиболее сложные чемпионаты шли с отрицательными весами, по ним отвечали хуже. Сложным турнирам соотвествуют \"Чемпионат Санкт-Петербурга. Первая лига\", \"Чемпионат Мира. Этап 2 Группа С\" и тд\n",
    "\n",
    "Самые легкие \"всплыли\" наверх, им соотвествуют такие турниры как \"Школьная лига\", \"Лига Вузов\""
   ]
  },
  {
   "cell_type": "code",
   "execution_count": null,
   "metadata": {},
   "outputs": [],
   "source": []
  }
 ],
 "metadata": {
  "kernelspec": {
   "display_name": "python38_main",
   "language": "python",
   "name": "python38_main"
  },
  "language_info": {
   "codemirror_mode": {
    "name": "ipython",
    "version": 3
   },
   "file_extension": ".py",
   "mimetype": "text/x-python",
   "name": "python",
   "nbconvert_exporter": "python",
   "pygments_lexer": "ipython3",
   "version": "3.8.5"
  }
 },
 "nbformat": 4,
 "nbformat_minor": 4
}
